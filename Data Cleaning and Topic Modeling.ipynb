{
 "cells": [
  {
   "cell_type": "markdown",
   "metadata": {},
   "source": [
    "### Import Packages"
   ]
  },
  {
   "cell_type": "code",
   "execution_count": 4,
   "metadata": {},
   "outputs": [],
   "source": [
    "import numpy as np \n",
    "import pandas as pd\n",
    "import re\n",
    "import string\n",
    "from sklearn.model_selection import train_test_split\n",
    "from sklearn.naive_bayes import MultinomialNB\n",
    "from sklearn.feature_extraction.text import TfidfVectorizer\n",
    "from sklearn.metrics import accuracy_score\n",
    "\n",
    "from tensorflow.python.keras.utils import np_utils\n",
    "from tensorflow.python.keras.utils.vis_utils import model_to_dot\n",
    "from tensorflow.keras.preprocessing.text import Tokenizer\n",
    "from tensorflow.keras.preprocessing.sequence import pad_sequences\n",
    "\n",
    "from tensorflow.keras.models import Model, Sequential\n",
    "from tensorflow.keras.layers import Dense, Activation, Dropout\n",
    "from tensorflow.keras.layers import Input, Embedding, Bidirectional, LSTM"
   ]
  },
  {
   "cell_type": "code",
   "execution_count": 39,
   "metadata": {},
   "outputs": [],
   "source": [
    "from nltk import word_tokenize, pos_tag\n",
    "from textblob import TextBlob\n",
    "from nltk.stem import WordNetLemmatizer \n",
    "from nltk.corpus import stopwords\n",
    "\n",
    "from sklearn.decomposition import NMF\n",
    "from sklearn.metrics.pairwise import cosine_similarity"
   ]
  },
  {
   "cell_type": "markdown",
   "metadata": {},
   "source": [
    "### Clean Datasets"
   ]
  },
  {
   "cell_type": "code",
   "execution_count": 65,
   "metadata": {},
   "outputs": [],
   "source": [
    "df = pd.read_csv(\"isear.csv\", names=['emotion', 'tweet'])"
   ]
  },
  {
   "cell_type": "code",
   "execution_count": 66,
   "metadata": {},
   "outputs": [
    {
     "data": {
      "text/html": [
       "<div>\n",
       "<style scoped>\n",
       "    .dataframe tbody tr th:only-of-type {\n",
       "        vertical-align: middle;\n",
       "    }\n",
       "\n",
       "    .dataframe tbody tr th {\n",
       "        vertical-align: top;\n",
       "    }\n",
       "\n",
       "    .dataframe thead th {\n",
       "        text-align: right;\n",
       "    }\n",
       "</style>\n",
       "<table border=\"1\" class=\"dataframe\">\n",
       "  <thead>\n",
       "    <tr style=\"text-align: right;\">\n",
       "      <th></th>\n",
       "      <th>tweet</th>\n",
       "      <th>emotion</th>\n",
       "    </tr>\n",
       "  </thead>\n",
       "  <tbody>\n",
       "    <tr>\n",
       "      <th>0</th>\n",
       "      <td>Text</td>\n",
       "      <td>Emotion</td>\n",
       "    </tr>\n",
       "    <tr>\n",
       "      <th>1</th>\n",
       "      <td>During the period of falling in love, each tim...</td>\n",
       "      <td>joy</td>\n",
       "    </tr>\n",
       "    <tr>\n",
       "      <th>2</th>\n",
       "      <td>When I was involved in a traffic accident.</td>\n",
       "      <td>fear</td>\n",
       "    </tr>\n",
       "    <tr>\n",
       "      <th>3</th>\n",
       "      <td>When I was driving home after  several days of...</td>\n",
       "      <td>anger</td>\n",
       "    </tr>\n",
       "    <tr>\n",
       "      <th>4</th>\n",
       "      <td>When I lost the person who meant the most to me.</td>\n",
       "      <td>sadness</td>\n",
       "    </tr>\n",
       "    <tr>\n",
       "      <th>...</th>\n",
       "      <td>...</td>\n",
       "      <td>...</td>\n",
       "    </tr>\n",
       "    <tr>\n",
       "      <th>7469</th>\n",
       "      <td>Two years back someone invited me to be the tu...</td>\n",
       "      <td>anger</td>\n",
       "    </tr>\n",
       "    <tr>\n",
       "      <th>7470</th>\n",
       "      <td>I had taken the responsibility to do something...</td>\n",
       "      <td>sadness</td>\n",
       "    </tr>\n",
       "    <tr>\n",
       "      <th>7471</th>\n",
       "      <td>I was at home and I heard a loud sound of spit...</td>\n",
       "      <td>disgust</td>\n",
       "    </tr>\n",
       "    <tr>\n",
       "      <th>7472</th>\n",
       "      <td>I did not do the homework that the teacher had...</td>\n",
       "      <td>shame</td>\n",
       "    </tr>\n",
       "    <tr>\n",
       "      <th>7473</th>\n",
       "      <td>I had shouted at my younger brother and he was...</td>\n",
       "      <td>guilt</td>\n",
       "    </tr>\n",
       "  </tbody>\n",
       "</table>\n",
       "<p>7474 rows × 2 columns</p>\n",
       "</div>"
      ],
      "text/plain": [
       "                                                  tweet  emotion\n",
       "0                                                  Text  Emotion\n",
       "1     During the period of falling in love, each tim...      joy\n",
       "2            When I was involved in a traffic accident.     fear\n",
       "3     When I was driving home after  several days of...    anger\n",
       "4     When I lost the person who meant the most to me.   sadness\n",
       "...                                                 ...      ...\n",
       "7469  Two years back someone invited me to be the tu...    anger\n",
       "7470  I had taken the responsibility to do something...  sadness\n",
       "7471  I was at home and I heard a loud sound of spit...  disgust\n",
       "7472  I did not do the homework that the teacher had...    shame\n",
       "7473  I had shouted at my younger brother and he was...    guilt\n",
       "\n",
       "[7474 rows x 2 columns]"
      ]
     },
     "execution_count": 66,
     "metadata": {},
     "output_type": "execute_result"
    }
   ],
   "source": [
    "df = df[['tweet', 'emotion']]\n",
    "df"
   ]
  },
  {
   "cell_type": "code",
   "execution_count": 102,
   "metadata": {},
   "outputs": [
    {
     "data": {
      "text/html": [
       "<div>\n",
       "<style scoped>\n",
       "    .dataframe tbody tr th:only-of-type {\n",
       "        vertical-align: middle;\n",
       "    }\n",
       "\n",
       "    .dataframe tbody tr th {\n",
       "        vertical-align: top;\n",
       "    }\n",
       "\n",
       "    .dataframe thead th {\n",
       "        text-align: right;\n",
       "    }\n",
       "</style>\n",
       "<table border=\"1\" class=\"dataframe\">\n",
       "  <thead>\n",
       "    <tr style=\"text-align: right;\">\n",
       "      <th></th>\n",
       "      <th>tweet</th>\n",
       "      <th>emotion</th>\n",
       "    </tr>\n",
       "  </thead>\n",
       "  <tbody>\n",
       "    <tr>\n",
       "      <th>0</th>\n",
       "      <td>Text</td>\n",
       "      <td>0</td>\n",
       "    </tr>\n",
       "    <tr>\n",
       "      <th>1</th>\n",
       "      <td>During the period of falling in love, each tim...</td>\n",
       "      <td>0</td>\n",
       "    </tr>\n",
       "    <tr>\n",
       "      <th>2</th>\n",
       "      <td>When I was involved in a traffic accident.</td>\n",
       "      <td>0</td>\n",
       "    </tr>\n",
       "    <tr>\n",
       "      <th>3</th>\n",
       "      <td>When I was driving home after  several days of...</td>\n",
       "      <td>1</td>\n",
       "    </tr>\n",
       "    <tr>\n",
       "      <th>4</th>\n",
       "      <td>When I lost the person who meant the most to me.</td>\n",
       "      <td>0</td>\n",
       "    </tr>\n",
       "    <tr>\n",
       "      <th>...</th>\n",
       "      <td>...</td>\n",
       "      <td>...</td>\n",
       "    </tr>\n",
       "    <tr>\n",
       "      <th>7469</th>\n",
       "      <td>Two years back someone invited me to be the tu...</td>\n",
       "      <td>1</td>\n",
       "    </tr>\n",
       "    <tr>\n",
       "      <th>7470</th>\n",
       "      <td>I had taken the responsibility to do something...</td>\n",
       "      <td>0</td>\n",
       "    </tr>\n",
       "    <tr>\n",
       "      <th>7471</th>\n",
       "      <td>I was at home and I heard a loud sound of spit...</td>\n",
       "      <td>0</td>\n",
       "    </tr>\n",
       "    <tr>\n",
       "      <th>7472</th>\n",
       "      <td>I did not do the homework that the teacher had...</td>\n",
       "      <td>0</td>\n",
       "    </tr>\n",
       "    <tr>\n",
       "      <th>7473</th>\n",
       "      <td>I had shouted at my younger brother and he was...</td>\n",
       "      <td>0</td>\n",
       "    </tr>\n",
       "  </tbody>\n",
       "</table>\n",
       "<p>7474 rows × 2 columns</p>\n",
       "</div>"
      ],
      "text/plain": [
       "                                                  tweet  emotion\n",
       "0                                                  Text        0\n",
       "1     During the period of falling in love, each tim...        0\n",
       "2            When I was involved in a traffic accident.        0\n",
       "3     When I was driving home after  several days of...        1\n",
       "4     When I lost the person who meant the most to me.         0\n",
       "...                                                 ...      ...\n",
       "7469  Two years back someone invited me to be the tu...        1\n",
       "7470  I had taken the responsibility to do something...        0\n",
       "7471  I was at home and I heard a loud sound of spit...        0\n",
       "7472  I did not do the homework that the teacher had...        0\n",
       "7473  I had shouted at my younger brother and he was...        0\n",
       "\n",
       "[7474 rows x 2 columns]"
      ]
     },
     "execution_count": 102,
     "metadata": {},
     "output_type": "execute_result"
    }
   ],
   "source": [
    "df"
   ]
  },
  {
   "cell_type": "code",
   "execution_count": 70,
   "metadata": {},
   "outputs": [],
   "source": [
    "df['emotion'] = df['emotion'].apply(lambda x: 1 if x=='anger' else 0)"
   ]
  },
  {
   "cell_type": "code",
   "execution_count": 71,
   "metadata": {},
   "outputs": [],
   "source": [
    "df2 = pd.concat([df, data2], ignore_index=True)"
   ]
  },
  {
   "cell_type": "code",
   "execution_count": 74,
   "metadata": {},
   "outputs": [
    {
     "data": {
      "text/plain": [
       "0    11651\n",
       "1     2772\n",
       "Name: emotion, dtype: int64"
      ]
     },
     "execution_count": 74,
     "metadata": {},
     "output_type": "execute_result"
    }
   ],
   "source": [
    "df2.emotion.value_counts()"
   ]
  },
  {
   "cell_type": "code",
   "execution_count": 481,
   "metadata": {},
   "outputs": [],
   "source": [
    "emotion = ['http://saifmohammad.com/WebDocs/EmoInt%20Train%20Data/anger-ratings-0to1.train.txt', \n",
    "          'http://saifmohammad.com/WebDocs/EmoInt%20Train%20Data/joy-ratings-0to1.train.txt', \n",
    "          'http://saifmohammad.com/WebDocs/EmoInt%20Train%20Data/fear-ratings-0to1.train.txt',\n",
    "            'http://saifmohammad.com/WebDocs/EmoInt%20Train%20Data/sadness-ratings-0to1.train.txt',\n",
    "          'http://saifmohammad.com/WebDocs/EmoInt%20Test%20Gold%20Data/anger-ratings-0to1.test.gold.txt',\n",
    "         'http://saifmohammad.com/WebDocs/EmoInt%20Test%20Gold%20Data/fear-ratings-0to1.test.gold.txt', \n",
    "          'http://saifmohammad.com/WebDocs/EmoInt%20Test%20Gold%20Data/joy-ratings-0to1.test.gold.txt', \n",
    "          'http://saifmohammad.com/WebDocs/EmoInt%20Test%20Gold%20Data/sadness-ratings-0to1.test.gold.txt', \n",
    "          'http://saifmohammad.com/WebDocs/EmoInt%20Dev%20Data%20With%20Gold/anger-ratings-0to1.dev.gold.txt',\n",
    "          'http://saifmohammad.com/WebDocs/EmoInt%20Dev%20Data%20With%20Gold/fear-ratings-0to1.dev.gold.txt']"
   ]
  },
  {
   "cell_type": "code",
   "execution_count": 482,
   "metadata": {},
   "outputs": [],
   "source": [
    "data = []\n",
    "for i in emotion:\n",
    "    df = pd.read_csv(i, sep='\\t', names = ['num', 'tweet', 'emotion', 'int'])\n",
    "    data.append(df)\n",
    "\n",
    "data2 = pd.concat(data)\n",
    "    "
   ]
  },
  {
   "cell_type": "code",
   "execution_count": 483,
   "metadata": {},
   "outputs": [
    {
     "data": {
      "text/html": [
       "<div>\n",
       "<style scoped>\n",
       "    .dataframe tbody tr th:only-of-type {\n",
       "        vertical-align: middle;\n",
       "    }\n",
       "\n",
       "    .dataframe tbody tr th {\n",
       "        vertical-align: top;\n",
       "    }\n",
       "\n",
       "    .dataframe thead th {\n",
       "        text-align: right;\n",
       "    }\n",
       "</style>\n",
       "<table border=\"1\" class=\"dataframe\">\n",
       "  <thead>\n",
       "    <tr style=\"text-align: right;\">\n",
       "      <th></th>\n",
       "      <th>num</th>\n",
       "      <th>tweet</th>\n",
       "      <th>emotion</th>\n",
       "      <th>int</th>\n",
       "    </tr>\n",
       "  </thead>\n",
       "  <tbody>\n",
       "    <tr>\n",
       "      <th>0</th>\n",
       "      <td>10000</td>\n",
       "      <td>How the fu*k! Who the heck! moved my fridge!.....</td>\n",
       "      <td>anger</td>\n",
       "      <td>0.938</td>\n",
       "    </tr>\n",
       "    <tr>\n",
       "      <th>1</th>\n",
       "      <td>10001</td>\n",
       "      <td>So my Indian Uber driver just called someone t...</td>\n",
       "      <td>anger</td>\n",
       "      <td>0.896</td>\n",
       "    </tr>\n",
       "    <tr>\n",
       "      <th>2</th>\n",
       "      <td>10002</td>\n",
       "      <td>@DPD_UK I asked for my parcel to be delivered ...</td>\n",
       "      <td>anger</td>\n",
       "      <td>0.896</td>\n",
       "    </tr>\n",
       "    <tr>\n",
       "      <th>3</th>\n",
       "      <td>10003</td>\n",
       "      <td>so ef whichever butt wipe pulled the fire alar...</td>\n",
       "      <td>anger</td>\n",
       "      <td>0.896</td>\n",
       "    </tr>\n",
       "    <tr>\n",
       "      <th>4</th>\n",
       "      <td>10004</td>\n",
       "      <td>Don't join @BTCare they put the phone down on ...</td>\n",
       "      <td>anger</td>\n",
       "      <td>0.896</td>\n",
       "    </tr>\n",
       "    <tr>\n",
       "      <th>...</th>\n",
       "      <td>...</td>\n",
       "      <td>...</td>\n",
       "      <td>...</td>\n",
       "      <td>...</td>\n",
       "    </tr>\n",
       "    <tr>\n",
       "      <th>105</th>\n",
       "      <td>21252</td>\n",
       "      <td>Staff on @ryainair FR1005. Asked for info and ...</td>\n",
       "      <td>fear</td>\n",
       "      <td>0.312</td>\n",
       "    </tr>\n",
       "    <tr>\n",
       "      <th>106</th>\n",
       "      <td>21253</td>\n",
       "      <td>Staff on @ryainair FR1005. Asked for info and ...</td>\n",
       "      <td>fear</td>\n",
       "      <td>0.271</td>\n",
       "    </tr>\n",
       "    <tr>\n",
       "      <th>107</th>\n",
       "      <td>21254</td>\n",
       "      <td>An adviser to the #European #Union’s top #cour...</td>\n",
       "      <td>fear</td>\n",
       "      <td>0.500</td>\n",
       "    </tr>\n",
       "    <tr>\n",
       "      <th>108</th>\n",
       "      <td>21255</td>\n",
       "      <td>So about 18mths ago i signed up to @Lumo_Energ...</td>\n",
       "      <td>fear</td>\n",
       "      <td>0.479</td>\n",
       "    </tr>\n",
       "    <tr>\n",
       "      <th>109</th>\n",
       "      <td>21256</td>\n",
       "      <td>So about 18mths ago i signed up to @Lumo_Energ...</td>\n",
       "      <td>fear</td>\n",
       "      <td>0.271</td>\n",
       "    </tr>\n",
       "  </tbody>\n",
       "</table>\n",
       "<p>6949 rows × 4 columns</p>\n",
       "</div>"
      ],
      "text/plain": [
       "       num                                              tweet emotion    int\n",
       "0    10000  How the fu*k! Who the heck! moved my fridge!.....   anger  0.938\n",
       "1    10001  So my Indian Uber driver just called someone t...   anger  0.896\n",
       "2    10002  @DPD_UK I asked for my parcel to be delivered ...   anger  0.896\n",
       "3    10003  so ef whichever butt wipe pulled the fire alar...   anger  0.896\n",
       "4    10004  Don't join @BTCare they put the phone down on ...   anger  0.896\n",
       "..     ...                                                ...     ...    ...\n",
       "105  21252  Staff on @ryainair FR1005. Asked for info and ...    fear  0.312\n",
       "106  21253  Staff on @ryainair FR1005. Asked for info and ...    fear  0.271\n",
       "107  21254  An adviser to the #European #Union’s top #cour...    fear  0.500\n",
       "108  21255  So about 18mths ago i signed up to @Lumo_Energ...    fear  0.479\n",
       "109  21256  So about 18mths ago i signed up to @Lumo_Energ...    fear  0.271\n",
       "\n",
       "[6949 rows x 4 columns]"
      ]
     },
     "execution_count": 483,
     "metadata": {},
     "output_type": "execute_result"
    }
   ],
   "source": [
    "data2"
   ]
  },
  {
   "cell_type": "code",
   "execution_count": 485,
   "metadata": {},
   "outputs": [],
   "source": [
    "data2.drop_duplicates(inplace=True)"
   ]
  },
  {
   "cell_type": "code",
   "execution_count": 158,
   "metadata": {},
   "outputs": [],
   "source": [
    "df2.drop(0, axis=0, inplace=True)"
   ]
  },
  {
   "cell_type": "code",
   "execution_count": 160,
   "metadata": {},
   "outputs": [],
   "source": [
    "df2['tweet'] = df2.tweet.map(punc_lower)"
   ]
  },
  {
   "cell_type": "code",
   "execution_count": 179,
   "metadata": {},
   "outputs": [],
   "source": [
    "df2.to_pickle('emotion.pkl')"
   ]
  },
  {
   "cell_type": "code",
   "execution_count": 7,
   "metadata": {},
   "outputs": [],
   "source": [
    "def deEmojify(text):\n",
    "    regrex_pattern = re.compile(pattern = \"[\"\n",
    "        u\"\\U0001F600-\\U0001F64F\"  # emoticons\n",
    "        u\"\\U0001F300-\\U0001F5FF\"  # symbols & pictographs\n",
    "        u\"\\U0001F680-\\U0001F6FF\"  # transport & map symbols\n",
    "        u\"\\U0001F1E0-\\U0001F1FF\"  # flags (iOS)\n",
    "                           \"]+\", flags = re.UNICODE)\n",
    "    return regrex_pattern.sub(r'',text)"
   ]
  },
  {
   "cell_type": "code",
   "execution_count": 251,
   "metadata": {},
   "outputs": [],
   "source": [
    "x['tweet'] = x.tweet.apply(deEmojify)"
   ]
  },
  {
   "cell_type": "code",
   "execution_count": 8,
   "metadata": {},
   "outputs": [],
   "source": [
    "data2['tweet'] = data2['tweet'].apply(deEmojify)"
   ]
  },
  {
   "cell_type": "code",
   "execution_count": 9,
   "metadata": {},
   "outputs": [],
   "source": [
    "data2.drop(['num', 'int'], axis=1, inplace=True)"
   ]
  },
  {
   "cell_type": "code",
   "execution_count": 10,
   "metadata": {},
   "outputs": [
    {
     "data": {
      "text/html": [
       "<div>\n",
       "<style scoped>\n",
       "    .dataframe tbody tr th:only-of-type {\n",
       "        vertical-align: middle;\n",
       "    }\n",
       "\n",
       "    .dataframe tbody tr th {\n",
       "        vertical-align: top;\n",
       "    }\n",
       "\n",
       "    .dataframe thead th {\n",
       "        text-align: right;\n",
       "    }\n",
       "</style>\n",
       "<table border=\"1\" class=\"dataframe\">\n",
       "  <thead>\n",
       "    <tr style=\"text-align: right;\">\n",
       "      <th></th>\n",
       "      <th>tweet</th>\n",
       "      <th>emotion</th>\n",
       "    </tr>\n",
       "  </thead>\n",
       "  <tbody>\n",
       "    <tr>\n",
       "      <th>0</th>\n",
       "      <td>How the fu*k! Who the heck! moved my fridge!.....</td>\n",
       "      <td>anger</td>\n",
       "    </tr>\n",
       "    <tr>\n",
       "      <th>1</th>\n",
       "      <td>So my Indian Uber driver just called someone t...</td>\n",
       "      <td>anger</td>\n",
       "    </tr>\n",
       "    <tr>\n",
       "      <th>2</th>\n",
       "      <td>@DPD_UK I asked for my parcel to be delivered ...</td>\n",
       "      <td>anger</td>\n",
       "    </tr>\n",
       "    <tr>\n",
       "      <th>3</th>\n",
       "      <td>so ef whichever butt wipe pulled the fire alar...</td>\n",
       "      <td>anger</td>\n",
       "    </tr>\n",
       "    <tr>\n",
       "      <th>4</th>\n",
       "      <td>Don't join @BTCare they put the phone down on ...</td>\n",
       "      <td>anger</td>\n",
       "    </tr>\n",
       "    <tr>\n",
       "      <th>...</th>\n",
       "      <td>...</td>\n",
       "      <td>...</td>\n",
       "    </tr>\n",
       "    <tr>\n",
       "      <th>105</th>\n",
       "      <td>Staff on @ryainair FR1005. Asked for info and ...</td>\n",
       "      <td>fear</td>\n",
       "    </tr>\n",
       "    <tr>\n",
       "      <th>106</th>\n",
       "      <td>Staff on @ryainair FR1005. Asked for info and ...</td>\n",
       "      <td>fear</td>\n",
       "    </tr>\n",
       "    <tr>\n",
       "      <th>107</th>\n",
       "      <td>An adviser to the #European #Union’s top #cour...</td>\n",
       "      <td>fear</td>\n",
       "    </tr>\n",
       "    <tr>\n",
       "      <th>108</th>\n",
       "      <td>So about 18mths ago i signed up to @Lumo_Energ...</td>\n",
       "      <td>fear</td>\n",
       "    </tr>\n",
       "    <tr>\n",
       "      <th>109</th>\n",
       "      <td>So about 18mths ago i signed up to @Lumo_Energ...</td>\n",
       "      <td>fear</td>\n",
       "    </tr>\n",
       "  </tbody>\n",
       "</table>\n",
       "<p>6949 rows × 2 columns</p>\n",
       "</div>"
      ],
      "text/plain": [
       "                                                 tweet emotion\n",
       "0    How the fu*k! Who the heck! moved my fridge!.....   anger\n",
       "1    So my Indian Uber driver just called someone t...   anger\n",
       "2    @DPD_UK I asked for my parcel to be delivered ...   anger\n",
       "3    so ef whichever butt wipe pulled the fire alar...   anger\n",
       "4    Don't join @BTCare they put the phone down on ...   anger\n",
       "..                                                 ...     ...\n",
       "105  Staff on @ryainair FR1005. Asked for info and ...    fear\n",
       "106  Staff on @ryainair FR1005. Asked for info and ...    fear\n",
       "107  An adviser to the #European #Union’s top #cour...    fear\n",
       "108  So about 18mths ago i signed up to @Lumo_Energ...    fear\n",
       "109  So about 18mths ago i signed up to @Lumo_Energ...    fear\n",
       "\n",
       "[6949 rows x 2 columns]"
      ]
     },
     "execution_count": 10,
     "metadata": {},
     "output_type": "execute_result"
    }
   ],
   "source": [
    "data2"
   ]
  },
  {
   "cell_type": "code",
   "execution_count": 11,
   "metadata": {},
   "outputs": [],
   "source": [
    "alphanumeric = lambda x: re.sub('\\w*\\d\\w*', ' ', x)\n",
    "punc_lower = lambda x: re.sub('[%s]' % re.escape(string.punctuation), ' ', x.lower())\n",
    "\n",
    "data2['tweet'] = data2.tweet.map(alphanumeric).map(punc_lower)"
   ]
  },
  {
   "cell_type": "code",
   "execution_count": 12,
   "metadata": {},
   "outputs": [],
   "source": [
    "data2['emotion'] = data2['emotion'].apply(lambda x: 1 if x=='anger' else 0)"
   ]
  },
  {
   "cell_type": "code",
   "execution_count": 512,
   "metadata": {},
   "outputs": [],
   "source": [
    "new_df['text'] = new_df['text'].map(alphanumeric).map(punc_lower)"
   ]
  },
  {
   "cell_type": "code",
   "execution_count": 253,
   "metadata": {},
   "outputs": [],
   "source": [
    "english = lambda x: re.sub('[^a-zA-Z]+', ' ', x)\n",
    "\n",
    "data2['tweet'] = data2.tweet.map(english)"
   ]
  },
  {
   "cell_type": "code",
   "execution_count": 13,
   "metadata": {},
   "outputs": [
    {
     "data": {
      "text/html": [
       "<div>\n",
       "<style scoped>\n",
       "    .dataframe tbody tr th:only-of-type {\n",
       "        vertical-align: middle;\n",
       "    }\n",
       "\n",
       "    .dataframe tbody tr th {\n",
       "        vertical-align: top;\n",
       "    }\n",
       "\n",
       "    .dataframe thead th {\n",
       "        text-align: right;\n",
       "    }\n",
       "</style>\n",
       "<table border=\"1\" class=\"dataframe\">\n",
       "  <thead>\n",
       "    <tr style=\"text-align: right;\">\n",
       "      <th></th>\n",
       "      <th>tweet</th>\n",
       "      <th>emotion</th>\n",
       "    </tr>\n",
       "  </thead>\n",
       "  <tbody>\n",
       "    <tr>\n",
       "      <th>0</th>\n",
       "      <td>how the fu k  who the heck  moved my fridge   ...</td>\n",
       "      <td>1</td>\n",
       "    </tr>\n",
       "    <tr>\n",
       "      <th>1</th>\n",
       "      <td>so my indian uber driver just called someone t...</td>\n",
       "      <td>1</td>\n",
       "    </tr>\n",
       "    <tr>\n",
       "      <th>2</th>\n",
       "      <td>dpd uk i asked for my parcel to be delivered ...</td>\n",
       "      <td>1</td>\n",
       "    </tr>\n",
       "    <tr>\n",
       "      <th>3</th>\n",
       "      <td>so ef whichever butt wipe pulled the fire alar...</td>\n",
       "      <td>1</td>\n",
       "    </tr>\n",
       "    <tr>\n",
       "      <th>4</th>\n",
       "      <td>don t join  btcare they put the phone down on ...</td>\n",
       "      <td>1</td>\n",
       "    </tr>\n",
       "    <tr>\n",
       "      <th>...</th>\n",
       "      <td>...</td>\n",
       "      <td>...</td>\n",
       "    </tr>\n",
       "    <tr>\n",
       "      <th>105</th>\n",
       "      <td>staff on  ryainair    asked for info and told ...</td>\n",
       "      <td>0</td>\n",
       "    </tr>\n",
       "    <tr>\n",
       "      <th>106</th>\n",
       "      <td>staff on  ryainair    asked for info and told ...</td>\n",
       "      <td>0</td>\n",
       "    </tr>\n",
       "    <tr>\n",
       "      <th>107</th>\n",
       "      <td>an adviser to the  european  union’s top  cour...</td>\n",
       "      <td>0</td>\n",
       "    </tr>\n",
       "    <tr>\n",
       "      <th>108</th>\n",
       "      <td>so about   ago i signed up to  lumo energy for...</td>\n",
       "      <td>0</td>\n",
       "    </tr>\n",
       "    <tr>\n",
       "      <th>109</th>\n",
       "      <td>so about   ago i signed up to  lumo energy for...</td>\n",
       "      <td>0</td>\n",
       "    </tr>\n",
       "  </tbody>\n",
       "</table>\n",
       "<p>6949 rows × 2 columns</p>\n",
       "</div>"
      ],
      "text/plain": [
       "                                                 tweet  emotion\n",
       "0    how the fu k  who the heck  moved my fridge   ...        1\n",
       "1    so my indian uber driver just called someone t...        1\n",
       "2     dpd uk i asked for my parcel to be delivered ...        1\n",
       "3    so ef whichever butt wipe pulled the fire alar...        1\n",
       "4    don t join  btcare they put the phone down on ...        1\n",
       "..                                                 ...      ...\n",
       "105  staff on  ryainair    asked for info and told ...        0\n",
       "106  staff on  ryainair    asked for info and told ...        0\n",
       "107  an adviser to the  european  union’s top  cour...        0\n",
       "108  so about   ago i signed up to  lumo energy for...        0\n",
       "109  so about   ago i signed up to  lumo energy for...        0\n",
       "\n",
       "[6949 rows x 2 columns]"
      ]
     },
     "execution_count": 13,
     "metadata": {},
     "output_type": "execute_result"
    }
   ],
   "source": [
    "data2"
   ]
  },
  {
   "cell_type": "code",
   "execution_count": 14,
   "metadata": {},
   "outputs": [],
   "source": [
    "data2.reset_index(inplace=True)"
   ]
  },
  {
   "cell_type": "code",
   "execution_count": 15,
   "metadata": {},
   "outputs": [],
   "source": [
    "data2.drop('index', axis=1, inplace=True)"
   ]
  },
  {
   "cell_type": "markdown",
   "metadata": {},
   "source": [
    "### Multinomial Naive Bayes"
   ]
  },
  {
   "cell_type": "code",
   "execution_count": 513,
   "metadata": {},
   "outputs": [],
   "source": [
    "X = new_df['text']\n",
    "y = new_df['emotion']"
   ]
  },
  {
   "cell_type": "code",
   "execution_count": 514,
   "metadata": {},
   "outputs": [],
   "source": [
    "X_train , X_test, y_train, y_test = train_test_split(X, y, test_size=0.30, random_state=42)"
   ]
  },
  {
   "cell_type": "code",
   "execution_count": 515,
   "metadata": {},
   "outputs": [],
   "source": [
    "tfidf1 = TfidfVectorizer()\n",
    "emotion_df = tfidf1.fit_transform(X_train).todense()\n",
    "X2_test = tfidf1.transform(X_test).todense()"
   ]
  },
  {
   "cell_type": "code",
   "execution_count": 516,
   "metadata": {},
   "outputs": [
    {
     "data": {
      "text/plain": [
       "matrix([[0., 0., 0., ..., 0., 0., 0.],\n",
       "        [0., 0., 0., ..., 0., 0., 0.],\n",
       "        [0., 0., 0., ..., 0., 0., 0.],\n",
       "        ...,\n",
       "        [0., 0., 0., ..., 0., 0., 0.],\n",
       "        [0., 0., 0., ..., 0., 0., 0.],\n",
       "        [0., 0., 0., ..., 0., 0., 0.]])"
      ]
     },
     "execution_count": 516,
     "metadata": {},
     "output_type": "execute_result"
    }
   ],
   "source": [
    "emotion_df"
   ]
  },
  {
   "cell_type": "code",
   "execution_count": 517,
   "metadata": {},
   "outputs": [
    {
     "data": {
      "text/plain": [
       "MultinomialNB()"
      ]
     },
     "execution_count": 517,
     "metadata": {},
     "output_type": "execute_result"
    }
   ],
   "source": [
    "clf = MultinomialNB()\n",
    "clf.fit(emotion_df, y_train)"
   ]
  },
  {
   "cell_type": "code",
   "execution_count": 518,
   "metadata": {},
   "outputs": [],
   "source": [
    "y_pred = clf.predict(X2_test)"
   ]
  },
  {
   "cell_type": "code",
   "execution_count": 519,
   "metadata": {},
   "outputs": [
    {
     "data": {
      "text/plain": [
       "0.7945399751817054"
      ]
     },
     "execution_count": 519,
     "metadata": {},
     "output_type": "execute_result"
    }
   ],
   "source": [
    "accuracy_score(y_pred, y_test)"
   ]
  },
  {
   "cell_type": "code",
   "execution_count": 520,
   "metadata": {},
   "outputs": [
    {
     "data": {
      "text/plain": [
       "0.7945399751817054"
      ]
     },
     "execution_count": 520,
     "metadata": {},
     "output_type": "execute_result"
    }
   ],
   "source": [
    "clf.score(X2_test, y_test)"
   ]
  },
  {
   "cell_type": "code",
   "execution_count": 527,
   "metadata": {},
   "outputs": [],
   "source": [
    "test = ['Please do this assignment again. You can do better.']"
   ]
  },
  {
   "cell_type": "code",
   "execution_count": 528,
   "metadata": {},
   "outputs": [],
   "source": [
    "test2 = tfidf1.transform(test).todense()"
   ]
  },
  {
   "cell_type": "code",
   "execution_count": 529,
   "metadata": {},
   "outputs": [
    {
     "data": {
      "text/plain": [
       "array([[0.80460414, 0.19539586]])"
      ]
     },
     "execution_count": 529,
     "metadata": {},
     "output_type": "execute_result"
    }
   ],
   "source": [
    "clf.predict_proba(test2)"
   ]
  },
  {
   "cell_type": "code",
   "execution_count": 511,
   "metadata": {},
   "outputs": [],
   "source": [
    "new_df = pd.read_pickle('semilast.pkl')"
   ]
  },
  {
   "cell_type": "code",
   "execution_count": 421,
   "metadata": {},
   "outputs": [],
   "source": [
    "df30 = pd.read_pickle('final_df.pkl')"
   ]
  },
  {
   "cell_type": "code",
   "execution_count": null,
   "metadata": {},
   "outputs": [],
   "source": [
    "df2 = pd.read_pickle('emotion.pkl')"
   ]
  },
  {
   "cell_type": "markdown",
   "metadata": {},
   "source": [
    "### Get Data from Twitter"
   ]
  },
  {
   "cell_type": "code",
   "execution_count": 117,
   "metadata": {},
   "outputs": [
    {
     "name": "stdout",
     "output_type": "stream",
     "text": [
      "Collecting python-twitter\n",
      "  Downloading python_twitter-3.5-py2.py3-none-any.whl (67 kB)\n",
      "\u001b[K     |████████████████████████████████| 67 kB 1.4 MB/s eta 0:00:011\n",
      "\u001b[?25hRequirement already satisfied: requests in /Users/michaelpaig/opt/anaconda3/envs/metis/lib/python3.8/site-packages (from python-twitter) (2.24.0)\n",
      "Requirement already satisfied: requests-oauthlib in /Users/michaelpaig/opt/anaconda3/envs/metis/lib/python3.8/site-packages (from python-twitter) (1.2.0)\n",
      "Requirement already satisfied: future in /Users/michaelpaig/opt/anaconda3/envs/metis/lib/python3.8/site-packages (from python-twitter) (0.18.2)\n",
      "Requirement already satisfied: chardet<4,>=3.0.2 in /Users/michaelpaig/opt/anaconda3/envs/metis/lib/python3.8/site-packages (from requests->python-twitter) (3.0.4)\n",
      "Requirement already satisfied: certifi>=2017.4.17 in /Users/michaelpaig/opt/anaconda3/envs/metis/lib/python3.8/site-packages (from requests->python-twitter) (2020.6.20)\n",
      "Requirement already satisfied: idna<3,>=2.5 in /Users/michaelpaig/opt/anaconda3/envs/metis/lib/python3.8/site-packages (from requests->python-twitter) (2.10)\n",
      "Requirement already satisfied: urllib3!=1.25.0,!=1.25.1,<1.26,>=1.21.1 in /Users/michaelpaig/opt/anaconda3/envs/metis/lib/python3.8/site-packages (from requests->python-twitter) (1.25.9)\n",
      "Requirement already satisfied: oauthlib>=3.0.0 in /Users/michaelpaig/opt/anaconda3/envs/metis/lib/python3.8/site-packages (from requests-oauthlib->python-twitter) (3.0.1)\n",
      "Installing collected packages: python-twitter\n",
      "Successfully installed python-twitter-3.5\n"
     ]
    }
   ],
   "source": [
    "!pip install python-twitter"
   ]
  },
  {
   "cell_type": "code",
   "execution_count": 5,
   "metadata": {},
   "outputs": [],
   "source": [
    "import twitter"
   ]
  },
  {
   "cell_type": "code",
   "execution_count": 6,
   "metadata": {},
   "outputs": [],
   "source": [
    "api = twitter.Api(consumer_key='Insert Key',\n",
    "                      consumer_secret='Insert Key',\n",
    "                      access_token_key= 'Insert Token',\n",
    "                      access_token_secret='Insert Secret Token')"
   ]
  },
  {
   "cell_type": "code",
   "execution_count": 509,
   "metadata": {},
   "outputs": [],
   "source": [
    "happy = api.GetSearch(raw_query=\"q=%23happy&src=typed_query&count=100\")"
   ]
  },
  {
   "cell_type": "code",
   "execution_count": 154,
   "metadata": {},
   "outputs": [],
   "source": [
    "results2 = api.GetSearch(raw_query=\"q=%23angry&src=typed_query&count=100\")"
   ]
  },
  {
   "cell_type": "code",
   "execution_count": 274,
   "metadata": {},
   "outputs": [],
   "source": [
    "x = []\n",
    "for i in results2:\n",
    "    x.append(i.text)\n",
    "\n",
    "for i in results:\n",
    "    x.append(i.text)\n",
    "    \n",
    "for i in results3:\n",
    "    x.append(i.text)\n",
    "    \n",
    "for i in results6:\n",
    "    x.append(i.text)\n",
    "    "
   ]
  },
  {
   "cell_type": "code",
   "execution_count": 230,
   "metadata": {},
   "outputs": [],
   "source": [
    "results3 = api.GetSearch(raw_query=\"q=%23angry&src=typed_query&count=100\")"
   ]
  },
  {
   "cell_type": "code",
   "execution_count": 270,
   "metadata": {},
   "outputs": [],
   "source": [
    "results4 = api.GetSearch(raw_query=\"q=%23passiveaggressive&src=typed_query&count=100\")"
   ]
  },
  {
   "cell_type": "code",
   "execution_count": 272,
   "metadata": {},
   "outputs": [],
   "source": [
    "results6 = api.GetSearch(raw_query=\"q=%23angry&src=typed_query&count=100\")"
   ]
  },
  {
   "cell_type": "code",
   "execution_count": 279,
   "metadata": {},
   "outputs": [],
   "source": [
    "def letters(input):\n",
    "    valids = []\n",
    "    for character in input:\n",
    "        if character.isalpha():\n",
    "            valids.append(character)\n",
    "    return ''.join(valids)"
   ]
  },
  {
   "cell_type": "code",
   "execution_count": 280,
   "metadata": {},
   "outputs": [],
   "source": [
    "x2 = x.copy()"
   ]
  },
  {
   "cell_type": "code",
   "execution_count": 281,
   "metadata": {},
   "outputs": [
    {
     "data": {
      "text/plain": [
       "''"
      ]
     },
     "execution_count": 281,
     "metadata": {},
     "output_type": "execute_result"
    }
   ],
   "source": [
    "x2"
   ]
  },
  {
   "cell_type": "code",
   "execution_count": 283,
   "metadata": {},
   "outputs": [],
   "source": [
    "emotion = pd.DataFrame(x, columns=['tweet'])"
   ]
  },
  {
   "cell_type": "code",
   "execution_count": 292,
   "metadata": {},
   "outputs": [],
   "source": [
    "emotion.drop_duplicates(inplace=True)"
   ]
  },
  {
   "cell_type": "code",
   "execution_count": 299,
   "metadata": {},
   "outputs": [],
   "source": [
    "remove_i = lambda x:re.sub(r'[^\\x00-\\x7f]',r'', x)\n",
    "emotion['tweet'] = emotion.tweet.map(remove_i)"
   ]
  },
  {
   "cell_type": "code",
   "execution_count": 302,
   "metadata": {},
   "outputs": [
    {
     "data": {
      "text/plain": [
       "tweet    0\n",
       "dtype: int64"
      ]
     },
     "execution_count": 302,
     "metadata": {},
     "output_type": "execute_result"
    }
   ],
   "source": [
    "emotion.isna().sum()"
   ]
  },
  {
   "cell_type": "code",
   "execution_count": 306,
   "metadata": {},
   "outputs": [
    {
     "data": {
      "text/html": [
       "<div>\n",
       "<style scoped>\n",
       "    .dataframe tbody tr th:only-of-type {\n",
       "        vertical-align: middle;\n",
       "    }\n",
       "\n",
       "    .dataframe tbody tr th {\n",
       "        vertical-align: top;\n",
       "    }\n",
       "\n",
       "    .dataframe thead th {\n",
       "        text-align: right;\n",
       "    }\n",
       "</style>\n",
       "<table border=\"1\" class=\"dataframe\">\n",
       "  <thead>\n",
       "    <tr style=\"text-align: right;\">\n",
       "      <th></th>\n",
       "      <th>tweet</th>\n",
       "    </tr>\n",
       "  </thead>\n",
       "  <tbody>\n",
       "    <tr>\n",
       "      <th>0</th>\n",
       "      <td>Never make a #decision when you're #angry and ...</td>\n",
       "    </tr>\n",
       "    <tr>\n",
       "      <th>1</th>\n",
       "      <td>@AdamsAlii This never works with my name I am ...</td>\n",
       "    </tr>\n",
       "    <tr>\n",
       "      <th>2</th>\n",
       "      <td>#angry doesnt even describe how I feel right n...</td>\n",
       "    </tr>\n",
       "    <tr>\n",
       "      <th>3</th>\n",
       "      <td>se no tirarem a gente, participamos das prxima...</td>\n",
       "    </tr>\n",
       "    <tr>\n",
       "      <th>4</th>\n",
       "      <td>I always available in good times and bad, you ...</td>\n",
       "    </tr>\n",
       "    <tr>\n",
       "      <th>...</th>\n",
       "      <td>...</td>\n",
       "    </tr>\n",
       "    <tr>\n",
       "      <th>387</th>\n",
       "      <td>,      \\nhttps://t.co/BugbAE3mKa\\n#Punjab...</td>\n",
       "    </tr>\n",
       "    <tr>\n",
       "      <th>388</th>\n",
       "      <td>@GregTMiraglia The more I read into it the mor...</td>\n",
       "    </tr>\n",
       "    <tr>\n",
       "      <th>389</th>\n",
       "      <td>@S4IWR1D youre probably the only one #sad #dis...</td>\n",
       "    </tr>\n",
       "    <tr>\n",
       "      <th>390</th>\n",
       "      <td>RT @therealwombat1: @katherineOma @79topper It...</td>\n",
       "    </tr>\n",
       "    <tr>\n",
       "      <th>391</th>\n",
       "      <td>@katherineOma @79topper It's Making Me Even Mo...</td>\n",
       "    </tr>\n",
       "  </tbody>\n",
       "</table>\n",
       "<p>260 rows × 1 columns</p>\n",
       "</div>"
      ],
      "text/plain": [
       "                                                 tweet\n",
       "0    Never make a #decision when you're #angry and ...\n",
       "1    @AdamsAlii This never works with my name I am ...\n",
       "2    #angry doesnt even describe how I feel right n...\n",
       "3    se no tirarem a gente, participamos das prxima...\n",
       "4    I always available in good times and bad, you ...\n",
       "..                                                 ...\n",
       "387       ,      \\nhttps://t.co/BugbAE3mKa\\n#Punjab...\n",
       "388  @GregTMiraglia The more I read into it the mor...\n",
       "389  @S4IWR1D youre probably the only one #sad #dis...\n",
       "390  RT @therealwombat1: @katherineOma @79topper It...\n",
       "391  @katherineOma @79topper It's Making Me Even Mo...\n",
       "\n",
       "[260 rows x 1 columns]"
      ]
     },
     "execution_count": 306,
     "metadata": {},
     "output_type": "execute_result"
    }
   ],
   "source": [
    "emotion.dropna()"
   ]
  },
  {
   "cell_type": "code",
   "execution_count": 307,
   "metadata": {},
   "outputs": [],
   "source": [
    "emotion['emotion'] = 1"
   ]
  },
  {
   "cell_type": "code",
   "execution_count": 310,
   "metadata": {},
   "outputs": [],
   "source": [
    "emotion.reset_index(inplace=True, drop=True)"
   ]
  },
  {
   "cell_type": "code",
   "execution_count": null,
   "metadata": {},
   "outputs": [],
   "source": [
    "remove_i = lambda x:re.sub(r'[^\\x00-\\x7f]',r'', x)"
   ]
  },
  {
   "cell_type": "code",
   "execution_count": 315,
   "metadata": {},
   "outputs": [],
   "source": [
    "remove_a = lambda x:re.sub(\"#angry\", '', x)\n",
    "remove_h = lambda x:re.sub(\"#\", '', x)"
   ]
  },
  {
   "cell_type": "code",
   "execution_count": 313,
   "metadata": {},
   "outputs": [],
   "source": [
    "emotion['tweet'] = emotion.tweet.map(remove_a)"
   ]
  },
  {
   "cell_type": "code",
   "execution_count": 316,
   "metadata": {},
   "outputs": [],
   "source": [
    "emotion['tweet'] = emotion.tweet.map(remove_h)"
   ]
  },
  {
   "cell_type": "code",
   "execution_count": 318,
   "metadata": {},
   "outputs": [],
   "source": [
    "emotion.to_pickle('angry_tweet.pkl')"
   ]
  },
  {
   "cell_type": "code",
   "execution_count": 323,
   "metadata": {},
   "outputs": [],
   "source": [
    "results8 = api.GetSearch(raw_query=\"q=%23angry&src=typed_query&since=2014-07-19&count=100\")"
   ]
  },
  {
   "cell_type": "markdown",
   "metadata": {},
   "source": [
    "### Get Data from Reddit "
   ]
  },
  {
   "cell_type": "code",
   "execution_count": 3,
   "metadata": {},
   "outputs": [],
   "source": [
    "import praw"
   ]
  },
  {
   "cell_type": "code",
   "execution_count": 9,
   "metadata": {},
   "outputs": [
    {
     "name": "stderr",
     "output_type": "stream",
     "text": [
      "Version 7.0.0 of praw is outdated. Version 7.1.0 was released Tuesday June 23, 2020.\n"
     ]
    }
   ],
   "source": [
    "reddit = praw.Reddit(client_id='', client_secret='', user_agent='')\n"
   ]
  },
  {
   "cell_type": "code",
   "execution_count": 199,
   "metadata": {},
   "outputs": [
    {
     "name": "stdout",
     "output_type": "stream",
     "text": [
      "\"I'll call you\" is bullshit.\n",
      "I hate my guardian\n",
      "Has anyone ever lost a job because of their anger?\n",
      "i'm never inviting people over again\n",
      "Doctors never helped me\n",
      "It’s like my life revolves around being angry!!!\n",
      "I don't even know what to title my posts anymore\n",
      "Fuck math\n",
      "Im through.\n",
      "im angry again\n",
      "Whoever put the stinky and sticky paper fly trap on my bed, die in a fire\n",
      "\"Ok sir. Whats ur ethnicity?\"\n",
      "I really want to saw my phone in half\n",
      "im angry ofc\n",
      "IG and Misleading Hashtags\n",
      "Really!?!?!?!?!?!?!?!\n",
      "I hate problem that fucking say this shit.\n",
      "Ugh angry wife\n",
      "Suicide hotline is a fucking joke\n",
      "Too much radicalism on the world\n",
      "angry\n",
      "i hate life\n",
      "im angry\n",
      "Stupid husband can’t be a damn dad\n",
      "turn your gd music down!\n",
      "I hate Russia and their divisive Qanon bullshit\n",
      "i hate judgement\n",
      "\"Life doesn't owe you anything\"\n",
      "Stupid fucking Roblox Noobs think they're so cool\n",
      "Why Can't Some People Take Responsibility?\n",
      "I am fighting for mental health but people misunderstand me\n",
      "r/Houston is an unfair subreddit\n",
      "I just got fucking aerial assaulted by a spider in my own home. Nowhere is safe.\n",
      "I can’t stand music fans.\n",
      "Pestering isn’t Rape. That’s invalidating to real survivors\n",
      "I'm so exhausted\n",
      "I’m so freakin mad\n",
      "Angry at roomate\n",
      "I hate having to gain karma.\n",
      "This doesn’t make sense >:(\n",
      "I fucking hate gacha life.\n",
      "Boyfriends parents kicked me out at my worst..\n",
      "I hate life\n",
      "I hate how people tell you how you should feel.\n",
      "How in the fuck?\n",
      "Just let me enjoy things Reddit\n",
      "Grammar isn't difficult (minor gripe, really)\n",
      "I really don’t like people who make rules only to ignore them to win\n",
      "\"You need therapy bro\"\n",
      "Banging on the bathroom door when I’m in the shower\n",
      "It didn’t have to be this way\n",
      "I’m really mad!!!!\n",
      "How to cope?\n",
      "I HATE school\n",
      "I hate my father.\n",
      "SOMEONE JUST COPIED MNY PLAYLIST WORD FOR WORD\n",
      "I hate ads.\n",
      "i rEALLY wISH cAPS lOCK wOULD pISS oFF\n",
      "Please stop saying the flu is worse\n",
      "Controlling anger on social media\n",
      "Just leave me alone please\n",
      "So pissed and now i feel regret... and shame..\n",
      "This literally just happened\n",
      "just spoiled the ending of the only show i ever loved enough to sit down and try and watch (didn’t finish it yet)\n",
      "I’m starting to get very frustrated!!!\n",
      "i fucking hate reddit awards\n",
      "Tired of fucking sheeps\n",
      "Scared I’ll push him away\n",
      "Why can’t friends just say friends\n",
      "I'm fucking fed up with sone people in my life.\n",
      "I really fucking hate my brother right now. Why does he have to be such a selfish asshole? And why do my parents punish me for his shit?\n",
      "I feel addicted to anger right now.\n",
      "I lost my job\n",
      "This favoritism shit got me fucked up\n",
      "I hate that my parents expect me to behave in a certain way, when they themselves don't act accordingly\n",
      "I hate being poor. It's bad for my mental health.\n",
      "I’m such a bitter woman\n",
      "Disgusting you’re disgusting\n",
      "My Response To “Why It Sucks To Be A Kid Today”\n",
      "My kid is in the hospital with the possibility of appendicitis and...\n",
      "My stepdad needs to kick the bucket\n",
      "This thing my dad plays. Can’t post on r/rant cuz not enough karma? Just annoyed Not angry lol\n",
      "Karens\n",
      "Fucking done.\n",
      "Why the hell do you wanna celebrate the birthday for a dead person\n",
      "I love you so fucking much but I'm growing tired...\n",
      "Shut up..\n",
      "I'm leaving reddit\n",
      "I’m really mad.\n",
      "Hate for younger man at work\n",
      "I'm so tired of trying.\n",
      "r/ShowerThoughts is shit\n",
      "Single lonely angry\n",
      "Boiling to a pot of melted wax\n",
      "I'm so angry my chest hurts\n",
      "Windows 10 SUCKS so hard\n",
      "Does anyone else laugh when they’re extremely upset?\n",
      "IM FUCKING DONE WITH MY MOM\n",
      "Idk why im always angry as fuk\n",
      "Don't ask me what camera I have\n",
      "I am so fucking done with my step dad\n",
      "I'm done with the way my mom loves to use slurs.\n",
      "Just another of my angry posts.\n",
      "Door handles are the worst invention to ever grace upon this planet we call earth\n",
      "I really hate Reddit. I used to think that the only reason I stay on it is because every other network I've tried has been less helpful, but I'm starting to wonder whether they were less damaging to my mental health.\n",
      "Very mad at Microsoft\n",
      "i’m so mad rn\n",
      "I can’t stand this anymore.\n",
      "So mad at my parents\n",
      "I didn't get into the university I wanted\n",
      "I don’t want to\n",
      "FUCK TABLOIDS\n",
      "my dad is a nasty asshole\n",
      "My heart feels like pain\n",
      "I Just Want Revenge\n",
      "Support staff not doing their job\n",
      "AHHHHHHHHHHHH\n",
      "Seeking for help\n",
      "You know what really irks me?\n",
      "I'm trying too hard. I'm ready to explode.\n",
      "The security guard, receptionist and the hotel manager\n",
      "I hate how much schooling is required to do basically anything\n",
      "Im very very tired of verizon advertisements on Youtube.\n",
      "The kind of people I don't want to talk to\n",
      "The American Healthcare System is a Joke and I am Running out of Money\n",
      "I fucking HATE Kahoot.\n",
      "Of Course This Would Happen. Why Wouldn't It?!\n",
      "Just pissed off.\n",
      "It's not 100% anymore.\n",
      "I’ve had enough\n",
      "Why do people use new stupid words if words already exist to describe something?!\n",
      "I FUCKIN HATE MY FAMILY, THE WHOLE DAMN FAMILY IN MY DAD’S SIDE. FUCKIN DICK HEADS !\n",
      "WHY CANT YOU JUST BE A BIT MORE REALISTIC\n",
      "I just need to scream this into the void that is the internet and r/rant wouldn't let me post so i figured I'd try here. Everything I (25F) want to scream at my partner (30M) but cant irl.\n",
      "People answering questions on reddit\n",
      "I FU***** HATE ROBLOX GIRLS!!!\n",
      "I feel like I mirror other people's treatment?\n",
      "Whats so wrong about asking for the pay rate?\n",
      "I need help\n",
      "How do you stop giving a fuck?\n",
      "Sick of \"rules for thee and not for me\" over Coronavirus, Floyd protests, Election year\n",
      "Fucking dickhead doesn't know how to use his own fucking garbage bin\n",
      "My great grandma recently passed and my grandmas shitty Christian family are harassing her.\n",
      "A bit pissed\n",
      "Fuck cancer\n",
      "keep appeasing parents even tho i hate'em\n",
      "How the fuck is this offmychest?\n",
      "University using Athletes as Corona Guinea Pigs\n",
      "My trumpster grandparents discussed the meaning of the phrase “white power” with me this morning\n",
      "I hate my family so much.\n",
      "Anyone else unable to let go of anger?\n",
      "Why does this shit need to happen to me?!\n",
      "Types of people that I hate the most\n",
      "My internet won’t f**king work (Because it’s sh*tty as crap)\n",
      "What the fuck kinda suicide hotline is this?\n",
      "Racist book propaganda came in mail\n",
      "do i need help?\n",
      "gf keeps making dumb mistakes\n",
      "Can't stop being angry\n",
      "Now i understand why people would like to move away from banks...\n",
      "I’m 14 and today I snapped\n",
      "How can i show my (18M) sister (23F) That she has anger issues\n",
      "Parents are miserable and it's making me miserable\n",
      "I'm tired of being in my head\n",
      "tRuMp 2020\n",
      "Fuck you, autocorrect\n",
      "Extremely infuriated\n",
      "My dad is a dick\n",
      "Right now, I really wish there was a way to legally torture someone.\n",
      "Saying all lives matter is the Minecraft equivalent of making all tools and armor the same.\n",
      "Why tho\n",
      "The idea if pronouns lmao\n",
      "I’m fucking done\n",
      "Screw thieves\n",
      "For the people who keep blaming police brutality on people resisting arrest\n",
      "I hate the grey area, I think it absolutely sucks!\n",
      "Systemic racism exists!\n",
      "Ffs\n",
      "Just shut up. I’m done.\n",
      "F*** the corrupted humans with a badge!\n",
      "Reality sucks as u grow\n",
      "ACTIONS SPEAK LOUDER THAN WORDS\n",
      "OH MY GOD I JUST CAN'T WAIT TO SMASH MY FUCKING PHONE\n",
      "Fuck people with big egos\n",
      "Hating a person rn\n",
      "Don't know how to express how angry I am\n",
      "Our leaders are no longer the leaders who we have been taught to respect\n",
      "I'm not mad, i'm just disappointed. In myself.\n",
      "Fuck my family\n",
      "I was stood up by and maybe lied to by my friend\n",
      "I probably need new friends\n",
      "guy abuses women but to his fans hes a nice guy\n",
      "Fuck you Hypixel\n",
      "Fuck video games\n",
      "Idiots are telling me that asexuals can’t be gay.\n",
      "I've had two and a half hours of sleep in the past 48 hours and I'm noticeably getting more irritable. How can I keep from exploding on someone?\n",
      "Today is just \"piss me the fuck off as much as possible\" day today\n",
      "I deleted my Discord account\n",
      "I've had enough\n",
      "My friends are ahit and I want to punch something\n",
      "Getting real sick of my family stealing from me\n",
      "WHY THE FUCK DID THIS HAPPEN?!\n",
      "If you blow your car horn suddenly to shock someone who's riding a bicycle...\n",
      "Mother\n",
      "I see red whenever I see so much positivity and wholesomeness shoved down everyone's throats\n",
      "Dear,\n",
      "Fucking shoot yourself, you goddamn animal abuser.\n",
      "Funny how so many people say they love my art/writing and then once it’s time to try and sell it, nobody wants to buy it. Even when i undersell myself beyond what I know my worth is.\n",
      "i cant fucking stand my sister\n",
      "Selfish fucks, ignoring OP\n",
      "Angry cuz my family dont listen to me 😒\n",
      "fuck you stupid fucking broken card reader\n",
      "Is it possible for her to be afraid of you and her?\n",
      "WHY REDDIT\n",
      "Holy FUCK, WHY WON'T ANYONE BUY THE SS UNITED STATES\n",
      "ALL I WANTED WAS TOO ENJOY MY COFFEE\n",
      "this is annoying me so much.\n",
      "A site for when you're angry\n",
      "Love made me angry.\n",
      "Some company stole another app's footage to advertise\n",
      "I do not like my downstairs neighbors. At all.\n",
      "American culture isn't sustainable in the long run.\n",
      "I hate Seaworld.\n",
      "A storm gave me the ultimate bricking!\n",
      "Take care of your laundry you lazy fucking assholes\n",
      "Tempers flare in Los Angeles\n",
      "Why ? , What ? , When, ? Is it ?, only questions I have are the ones that remain unanswered.....\n",
      "I can't even trust police anymore.\n",
      "Obvious statement is obvious but this year is already going to absolute hell.\n",
      "I have lost the most important thing in life....\n",
      "I am a lost and broken idiot\n",
      "26yr old fighting 19yr old\n",
      "All the police are a hive mind of racism\n",
      "We're smart enough to develop complex technology n theories, but not smart enough to realize racism gets us nowhere\n",
      "Fuck Oakville\n",
      "It is not 1 bad cop 1 bad doctor 1 bad restaurant etc...\n",
      "\"A poor man died, so I will riot\"\n",
      "Why is it every time I run out or quit smokes, drugs or alcohol... I need smokes, drugs or alcohol?! SPECIALLY now.\n",
      "Fuck you u woman beating piece of shit\n",
      "Whoever Thought Of The Idea About Complaining Needed To Go Fuck Himself!!\n",
      "Pigs\n",
      "Reddit you suck!\n",
      "Yo, humanity, Fuck you! I hope you BURN!\n",
      "If you talk on your phone, on speaker, in public: Die painfully in a fire\n",
      "I am angry my friend is making more money off unemployment then I take home.\n",
      "I miss my grandma\n",
      "Restless leg syndrome. Does anyone else get it?\n",
      "People who can afford expensive things regularly...\n",
      "BURN AMERIKKKA BURN...\n",
      "Fuck this shit\n",
      "I’m angry... all the time, and I’m tired.\n",
      "average looking\n",
      "Thanks for expecting me to be grateful for a major decision you pressured me into\n",
      "Things I hate rn\n",
      "Does anyone hate their sibling like I do?\n",
      "Just remembered and got angry at something a few girls did to me a few years ago.\n",
      "I hate HATE HAAATEE online school\n",
      "Uninvited\n",
      "Angry Enough to Write Poetry (I am not a poet)\n",
      "I hate parties\n",
      "I wrote an original poem because I’m angry\n",
      "Judgemental keyboard warriors\n",
      "Antagonized at the bus stop\n",
      "Brother is making me miserable !\n",
      "My anger is building up\n",
      "Fuck This Society\n",
      "\"Instead of going to the police, I should post online\"\n",
      "F*ck all of u that aren’t staying at home unless it’s necessary to go out\n",
      "What companies are on your Covid-19 shit list?\n",
      ">:/\n",
      "Why am I such a fucking dumbdumb?\n",
      "I would like to join the 27 club\n",
      "I’m fucking piss off at google\n",
      "You choose to be homeless\n",
      "I guess I hate you now\n",
      "Screw Amazon\n",
      "I'm so angry and dissapointed\n",
      "Why have we misused the word \"simp\" into ridiculousness?\n",
      "BRINGING UP THE USS LIBERTY IS ANTISEMITIC PERIOD!\n",
      "i find it easy to compose my self around others but very hard to compose my self when im alone\n",
      "Rocket League should rename itself to Retard League\n",
      "HE IS CRAZY\n",
      "UGH UGH UGH\n",
      "Just saw my Mom throw my 18 year old dog full force into the pool bc she was mad the dog was whining.\n",
      "Walkers are not better than runners\n",
      "I just wanted ramen with cabbage\n",
      "angry at all the energy you gave out to people that were not worthy of it?\n",
      "Reddit is really making me mad\n",
      "Gabby, if you can see this or ever care to read it uhh, fuck you.\n",
      "Not a single person has upvoted anything I've posted, And its my fucking cake day\n",
      "My Health Care Agent Lied to Me\n",
      "How many fucking times do I have to click fucking traffic lights before you fucking verify?\n",
      "I hate the R6 community\n",
      "I Hate Nurses\n",
      "OMG I hate pedophiles\n",
      "Angry Step-Grandma\n",
      "I want to stop being angry but its hard to let go\n",
      "Crazy, homophobic bastard!\n",
      "Don't take your fucking anger out on your dogs\n",
      "Honestly fuck everyone who ever said they were my friend\n"
     ]
    },
    {
     "name": "stdout",
     "output_type": "stream",
     "text": [
      "Gamestop didn't tell me that I couldnt get my game after waiting for 6 months\n",
      "Why am I being Guilt tripped\n",
      "I've fucking had it with 99.999999999% of people that I know! Fucking damn it!\n",
      "I've never really felt so angry until today\n",
      "why did my (ex) friend think its okay to basically assult me??\n",
      "How is this fair?\n",
      "I give up part 2\n",
      "To angry to write a good title\n",
      "I’m an awful person.\n",
      "I give up\n",
      "What ails you, boy?\n",
      "Fuck this. I'm not even gonna ask for help anymore.\n",
      "Mad that people cant see your true colors\n",
      "I’m at a loss. My hatred for the man whose DNA I share has exponentially expanded\n",
      "Take your fucking two part authentication and fucking shove it\n",
      "Angry at people in general\n",
      "Must you fucking rev your engine?\n",
      "F*@/%#ckk\n",
      "I want to hire someone to beat the shit out of my ex brother-in-law?\n",
      "Two things.\n",
      "Internet access for everyone + Social Media has led to the downfall of society. (also onlyfans rant)\n",
      "...\n",
      "I just fucking can’t anymore.\n",
      "I'll always remember this Martin guy...\n",
      "Fuck you tech support scams\n",
      "I feel like disowning my entire fucking family after college.\n",
      "Fixed the printer\n",
      "I hate it\n",
      "Deleted meme\n",
      "Quarantine has made me an angry person\n",
      "On the verge of smashing my family's piece of shit printer to bits\n",
      "my friend's (ex) boyfriend told me one time he thought i looked like a fighter. I thought it was a complement. He was sizing me up to drug me and have his friend rape me for days like he did with his girlfriend. This asshole never went to jail because this sweet girl is trans. It still haunts me.\n",
      "ARE YOU FUCKING DONE REDDIT?!\n",
      "AHHGHHHHHHHG\n",
      "My balls aren't chafing anymore\n",
      "Feel defeated\n",
      "I want respect\n",
      "Im tired of these fake people and their indoctrination\n",
      "Thanks for taking me off your private story for absolutely no fucking reason\n",
      "She doesn't have a boyfriend!!!\n",
      "Pissed that no one takes what I say seriously.\n",
      "First Post - How do you guys cope with feeling lost?\n",
      "Why is Planet Fitness still like this?\n",
      "My aunts boyfriend basically killed her.\n",
      "Giveaways\n",
      "Apartment raised rent during a pandemic.\n",
      "Tired of giving advice to friends who promptly ignore it\n",
      "SERIOUSLY EFF TRUMP\n",
      "Don't frickin dare gloss over the fact that you used a ethnic slur.\n",
      "I'm frustrated.\n",
      "I’m pissed\n",
      "When someone cat calls you by whistling\n",
      "People are the worst\n",
      "I don't want to deal with my parents anymore.\n",
      "Simps who act this way on girls' Yolo stories\n",
      "Our education system is terrible.\n",
      "I hate these subreddits\n",
      "Since they are victim blaming and being assholes over over at r/rant WEAR PROPERLY FITTED MASKS AND SOCIAL DISTANCE at groccery !\n",
      "Please people, stop checking what games I play on Steam jeez.\n",
      "Fuck my past! FUCK IT ALL!\n",
      "WHATS THE FUCKIN POINT OF A TEA POT\n",
      "why is it so hard to follow someones advice?\n",
      "HOW THE FUCK TO STOP BALLS FROM CHAFING.\n",
      "STAY THE FUCK HOME\n",
      "Shit, again, really!\n",
      "Dear balls\n",
      "SHUT THE FUCK UP ABOUT LINUX!\n",
      "How dare you?!\n",
      "Magic: The Gathering - When one of your cards is taken, and of course it's one of the 'Power Nine'\n",
      "Just another post about my asshole dad.\n",
      "STOP FUCKEN DOWNVOTING ME JUST BECAUSE I DIDN'T KNOW THAT THERE ARE LIPS ON A VAGINA\n",
      "This Gets On My Nerves!!\n",
      "I fucken hate my balls\n",
      "You left our friendship to be with someone only to have broken up after 5 months\n",
      "Today is a write-off until I finish my shower\n",
      "When literally no matter how much and how hard you try or how well you do everything... It doesn’t matter...\n",
      "I came here to vent about the new mustang\n",
      "my day\n",
      "It's the right fucking password!\n",
      "I just lost $200 because of my mental/ memory problems.\n",
      "I'm not pretty\n",
      "Even in your worst times people will see it and still take advantage of you whilst claiming to help\n",
      "I hate that the world is shallow including me.\n",
      "Everybody on Reddit during the Coronavirus pandemic is just FUCKING TOXIC!!!\n",
      "Fucking worst\n",
      "“Dad” is a lazy a$$ deadbeat\n",
      "my parents are not social distancing and i am losing my mind\n",
      "I am stuck with someone I hate\n",
      "Early morning road rage that happened an hour ago\n",
      "I swear, some people don't know how to take NO as a FUCKING ANSWER.\n",
      "Fuck me. Fuck life. Fuck depression, loneliness, and dysfunction.\n",
      "Well phuck me\n",
      "Mom brings up something entirely different when we would argue\n",
      "I am annoyed at people for treating me like a hypochondriac\n",
      "FUCK THIS DAMN FUCKING ASS BULL CRAP.\n",
      "The thought of calming down makes me more angry\n",
      "I am a patient\n",
      "Help\n",
      "Husband keeps asking for back massages every day\n",
      "Autistic Medical worker, \"Laid off\" and Abandoned by the state during Covid-19\n",
      "Gay Gal rant\n",
      "Clapping for the NHS.\n",
      "DO I EVEN EXIST\n",
      "Maybe I'm just a dick?\n",
      "I'm just pissed\n",
      "Job\n",
      "Angry\n",
      "Need help\n",
      "HE QUIT BECAUSE OF YOU\n",
      "I hate you\n",
      "April's taking a gigantic shit on my face\n",
      "Videotoygamer is a douchebag!!!\n",
      "Fuck\n",
      "QUIT PLAYING AROUND\n",
      "Fuck.\n",
      "I’m so angry\n",
      "Family of the year.\n",
      "Childhood Delusions\n",
      "Heart break\n",
      "Social Distancing.\n",
      "Fucking cut on my fucking thumb\n",
      "Angry, violent and edgy outburst that I need to get out\n",
      "So sick of people treating fish like they aren't alive\n",
      "I HATE GETTING ONE TAPPED IN CS\n",
      "HANNAH MONTANA SUCKS!!!!!!!!\n",
      "Fuck you Zoom\n",
      "getting downvoted to oblivion for no literal fucking reason\n",
      "I'm super frustrated and mad at this world as a whole\n",
      "my favorite game is lost media\n",
      "A petty rant.\n",
      "fart stinky poop hole butt pee\n",
      "To the person who treated me like shit in 6th grade,\n",
      "I WANT TO DESTROY SOMETHING RIGHT NOW\n",
      "The Worst TV Channel For Children… Ever!\n",
      "My Mother: My WORST NIGHTMARE!!! 😱\n",
      "Absolute moron of a cousin....\n",
      "Anyone else getting angry at everything because of being on lockdown?\n",
      "God fucking damit Fedex\n",
      "Rant on politics during Coronavirus outbreak\n",
      "Fucken Coworkers\n",
      "Reddit is really making me mad\n",
      "Why do \"the silent ones\" piss me off so much?\n",
      "My toxic friend if I can call her that has finally fucked off and is gone from my life.\n",
      "Fuck friends\n",
      "The media is withholding information on COVID-19\n",
      "Does anyone else ever get genuinely pissed off at their own clumsiness?\n",
      "How do I escape this shadow realm?\n",
      "I HATE THE CORONAVIRUS PANIC\n",
      "I bought Zoo Tycoon xbox 360\n",
      "I hate my dad\n",
      "\"Friends\" and money\n",
      "Ignored\n",
      "RANT TIIIIIME\n",
      "Beautiful copy paste from a comment i found about skate 3\n",
      "DAY 6\n",
      "roblox has actively ruined my life and heres why\n",
      "My brother is a freeloading, manipulative, scamming POS\n",
      "Trump's racist tweet\n",
      "IM SO MAD\n",
      "Escape the Room is a trash company\n",
      "Fuck you Coronavirus\n",
      "My fecking annoying laptop\n",
      "Let’s talk about event tickets\n",
      "You chose someone with a history being an abuser over your best friend!!!\n",
      "Game remakes\n",
      "Reddit is to picky about my posting\n",
      "This misogynist\n",
      "So thats how it is huh?\n",
      "Too much damned noise\n",
      "The people stock buying soap and hand sanitiser because of covid19 can go fuck themselves\n",
      "Your balloon squealing is hurting my cat!\n",
      "What The Hell Can I Do About This Bullshit?\n",
      "Why are there so many pedos on here??\n",
      "I have autism, and everyone else is the problem.\n",
      "Just found out my old roommate peed on my dog out of spite (x-post from /r/rant)\n",
      "noises\n",
      "Child murderer has cult following\n",
      "I fucking hate my bank's new chat system\n",
      "Basically: I don’t think anyone should be content with society\n",
      "Drug addicts killed my dog\n",
      "I hate Painters Plastic\n",
      "Sometimes, people looking at me the wrong way or having a rude tone in their voice irritates me.\n",
      "I don't know who you are, but i'm gonna beat the living shit out of you once I find out.\n",
      "People attacking me\n",
      "Hey asshole! You don't own a fucking garage, so don't fucking pretend that you do!\n",
      "Why do people always have to make so many assumptions?\n",
      "I HATE MY FAMILY\n",
      "F my car!\n",
      "My grandpa was one of the biggest oil tycoons in the history of Oklahoma.\n",
      "I am really mad at someone on the bus, what can I do?\n",
      "annoyed\n",
      "Women’s clothing sizes!\n",
      "Having a quiet voice/manners is no good.\n",
      "You made your choice, both of you. Fuck off and leave me out of it\n",
      "There goes my peace of mind...\n",
      "Youtube comment's section IQ of -10\n",
      "Hope you lose everything\n",
      "I haven't been this angry in so long\n",
      "Anyone got any advice?\n",
      "My fucking dorm roommate sleeping all day and then once he’s awake (as I’m going to bed) playing videos through his phone speaker.\n"
     ]
    }
   ],
   "source": [
    "hot_posts = reddit.subreddit('angry').hot(limit=1000)\n",
    "for post in hot_posts:\n",
    "    print(post.title)"
   ]
  },
  {
   "cell_type": "code",
   "execution_count": 331,
   "metadata": {},
   "outputs": [
    {
     "name": "stdout",
     "output_type": "stream",
     "text": [
      "                                                  title  score      id  \\\n",
      "0     how am i meant to build karma if they don't le...     82  92hqz4   \n",
      "1     Not a single person has upvoted anything I've ...     75  gkl8hz   \n",
      "2                                       GO AWAY TIK TOK     63  9sb19r   \n",
      "3     The people stock buying soap and hand sanitise...     53  fi2uvb   \n",
      "4     Fuck people who have kids they can’t afford to...     50  c7ikbn   \n",
      "...                                                 ...    ...     ...   \n",
      "3485                                 Evil people exist.      5  ikpj25   \n",
      "3486                                    Braces are hell      2  ikpck2   \n",
      "3487                                   From the people,      1  ikp8n1   \n",
      "3488  Can't write an essay on Woodshop because it's ...      3  ikp43o   \n",
      "3489               It sucks when your post gets removed      1  ikp22u   \n",
      "\n",
      "     subreddit                                                url  \\\n",
      "0        angry  https://www.reddit.com/r/angry/comments/92hqz4...   \n",
      "1        angry  https://www.reddit.com/r/angry/comments/gkl8hz...   \n",
      "2        angry  https://www.reddit.com/r/angry/comments/9sb19r...   \n",
      "3        angry  https://www.reddit.com/r/angry/comments/fi2uvb...   \n",
      "4        angry  https://www.reddit.com/r/angry/comments/c7ikbn...   \n",
      "...        ...                                                ...   \n",
      "3485      rant  https://www.reddit.com/r/rant/comments/ikpj25/...   \n",
      "3486      rant  https://www.reddit.com/r/rant/comments/ikpck2/...   \n",
      "3487      rant  https://www.reddit.com/r/rant/comments/ikp8n1/...   \n",
      "3488      rant  https://www.reddit.com/r/rant/comments/ikp43o/...   \n",
      "3489      rant  https://www.reddit.com/r/rant/comments/ikp22u/...   \n",
      "\n",
      "      num_comments                                               body  \\\n",
      "0                7  and then if i try to post somewhere else i end...   \n",
      "1               27  I know this is such a stupid pet peeve but still.   \n",
      "2               14                                GRRRRR FUCK UR ADS    \n",
      "3               19  My mum is a high risk person for this fucking ...   \n",
      "4                5  Me & my two brothers raised in the deepest of ...   \n",
      "...            ...                                                ...   \n",
      "3485             0  You know some people amaze me with how much ha...   \n",
      "3486             1  Everyone says braces will be worth it when you...   \n",
      "3487             0  For the people. But is that true? \\n\\nIt is.\\n...   \n",
      "3488             0  In English, we're supposed to be writing about...   \n",
      "3489             0  You put effort into a post and then it gets re...   \n",
      "\n",
      "           created  \n",
      "0     1.532765e+09  \n",
      "1     1.589619e+09  \n",
      "2     1.540827e+09  \n",
      "3     1.584148e+09  \n",
      "4     1.561952e+09  \n",
      "...            ...  \n",
      "3485  1.599013e+09  \n",
      "3486  1.599012e+09  \n",
      "3487  1.599012e+09  \n",
      "3488  1.599011e+09  \n",
      "3489  1.599011e+09  \n",
      "\n",
      "[3490 rows x 8 columns]\n"
     ]
    }
   ],
   "source": [
    "posts = []\n",
    "ml_subreddit = reddit.subreddit('angry')\n",
    "for post in ml_subreddit.top(limit=1000):\n",
    "    posts.append([post.title, post.score, post.id, post.subreddit, post.url, post.num_comments, post.selftext, post.created])\n",
    "for post in ml_subreddit.new(limit=500):\n",
    "    posts.append([post.title, post.score, post.id, post.subreddit, post.url, post.num_comments, post.selftext, post.created])\n",
    "for post in ml_subreddit.hot(limit=500):\n",
    "    posts.append([post.title, post.score, post.id, post.subreddit, post.url, post.num_comments, post.selftext, post.created])\n",
    "rant_subreddit = reddit.subreddit('rant')\n",
    "for post in rant_subreddit.top(limit=1000):\n",
    "    posts.append([post.title, post.score, post.id, post.subreddit, post.url, post.num_comments, post.selftext, post.created])\n",
    "for post in rant_subreddit.new(limit=500):\n",
    "    posts.append([post.title, post.score, post.id, post.subreddit, post.url, post.num_comments, post.selftext, post.created])\n",
    "posts = pd.DataFrame(posts,columns=['title', 'score', 'id', 'subreddit', 'url', 'num_comments', 'body', 'created'])\n",
    "print(posts)"
   ]
  },
  {
   "cell_type": "code",
   "execution_count": 478,
   "metadata": {},
   "outputs": [],
   "source": [
    "posts2 = []\n",
    "ml2_subreddit = reddit.subreddit('happy')\n",
    "for post in ml2_subreddit.top(limit=1000):\n",
    "    posts2.append([post.title, post.score, post.id, post.subreddit, post.url, post.num_comments, post.selftext, post.created])\n",
    "for post in ml2_subreddit.new(limit=1000):\n",
    "    posts2.append([post.title, post.score, post.id, post.subreddit, post.url, post.num_comments, post.selftext, post.created])\n",
    "\n",
    "posts2 = pd.DataFrame(posts2,columns=['title', 'score', 'id', 'subreddit', 'url', 'num_comments', 'body', 'created'])"
   ]
  },
  {
   "cell_type": "code",
   "execution_count": 479,
   "metadata": {},
   "outputs": [
    {
     "data": {
      "text/html": [
       "<div>\n",
       "<style scoped>\n",
       "    .dataframe tbody tr th:only-of-type {\n",
       "        vertical-align: middle;\n",
       "    }\n",
       "\n",
       "    .dataframe tbody tr th {\n",
       "        vertical-align: top;\n",
       "    }\n",
       "\n",
       "    .dataframe thead th {\n",
       "        text-align: right;\n",
       "    }\n",
       "</style>\n",
       "<table border=\"1\" class=\"dataframe\">\n",
       "  <thead>\n",
       "    <tr style=\"text-align: right;\">\n",
       "      <th></th>\n",
       "      <th>title</th>\n",
       "      <th>score</th>\n",
       "      <th>id</th>\n",
       "      <th>subreddit</th>\n",
       "      <th>url</th>\n",
       "      <th>num_comments</th>\n",
       "      <th>body</th>\n",
       "      <th>created</th>\n",
       "    </tr>\n",
       "  </thead>\n",
       "  <tbody>\n",
       "    <tr>\n",
       "      <th>0</th>\n",
       "      <td>My sweet girl is CANCER FREE today!!!</td>\n",
       "      <td>85842</td>\n",
       "      <td>6yze1g</td>\n",
       "      <td>happy</td>\n",
       "      <td>https://i.redd.it/e8dskluqtrkz.jpg</td>\n",
       "      <td>1174</td>\n",
       "      <td></td>\n",
       "      <td>1.504954e+09</td>\n",
       "    </tr>\n",
       "    <tr>\n",
       "      <th>1</th>\n",
       "      <td>7 years ago my ex slammed my face into a bathr...</td>\n",
       "      <td>83339</td>\n",
       "      <td>axac7r</td>\n",
       "      <td>happy</td>\n",
       "      <td>https://i.redd.it/119gf9pz85k21.jpg</td>\n",
       "      <td>2059</td>\n",
       "      <td></td>\n",
       "      <td>1.551752e+09</td>\n",
       "    </tr>\n",
       "    <tr>\n",
       "      <th>2</th>\n",
       "      <td>200 days drugs free today, on my way to my fir...</td>\n",
       "      <td>65035</td>\n",
       "      <td>afyn3l</td>\n",
       "      <td>happy</td>\n",
       "      <td>https://imgur.com/v10blf0</td>\n",
       "      <td>1700</td>\n",
       "      <td></td>\n",
       "      <td>1.547519e+09</td>\n",
       "    </tr>\n",
       "    <tr>\n",
       "      <th>3</th>\n",
       "      <td>A year ago my wife left me and my girls. I fin...</td>\n",
       "      <td>60742</td>\n",
       "      <td>8xgij6</td>\n",
       "      <td>happy</td>\n",
       "      <td>https://i.imgur.com/Ytj2PYC.jpg</td>\n",
       "      <td>1236</td>\n",
       "      <td></td>\n",
       "      <td>1.531201e+09</td>\n",
       "    </tr>\n",
       "    <tr>\n",
       "      <th>4</th>\n",
       "      <td>Please help me shock my husband by our picture...</td>\n",
       "      <td>56919</td>\n",
       "      <td>9eyzip</td>\n",
       "      <td>happy</td>\n",
       "      <td>https://i.redd.it/cur93aoaxml11.jpg</td>\n",
       "      <td>572</td>\n",
       "      <td></td>\n",
       "      <td>1.536712e+09</td>\n",
       "    </tr>\n",
       "    <tr>\n",
       "      <th>...</th>\n",
       "      <td>...</td>\n",
       "      <td>...</td>\n",
       "      <td>...</td>\n",
       "      <td>...</td>\n",
       "      <td>...</td>\n",
       "      <td>...</td>\n",
       "      <td>...</td>\n",
       "      <td>...</td>\n",
       "    </tr>\n",
       "    <tr>\n",
       "      <th>1945</th>\n",
       "      <td>[Play] A teacher and student play You Are My S...</td>\n",
       "      <td>2</td>\n",
       "      <td>hnouhi</td>\n",
       "      <td>happy</td>\n",
       "      <td>/r/Guitar/comments/hn1od9/play_a_teacher_and_s...</td>\n",
       "      <td>1</td>\n",
       "      <td></td>\n",
       "      <td>1.594269e+09</td>\n",
       "    </tr>\n",
       "    <tr>\n",
       "      <th>1946</th>\n",
       "      <td>Special Jam delivery with my peanut butter.</td>\n",
       "      <td>12</td>\n",
       "      <td>hnmf2i</td>\n",
       "      <td>happy</td>\n",
       "      <td>https://v.redd.it/jv06pu8reo951</td>\n",
       "      <td>1</td>\n",
       "      <td></td>\n",
       "      <td>1.594262e+09</td>\n",
       "    </tr>\n",
       "    <tr>\n",
       "      <th>1947</th>\n",
       "      <td>Passed my EMT test and got full custody of my ...</td>\n",
       "      <td>5224</td>\n",
       "      <td>hnkmqj</td>\n",
       "      <td>happy</td>\n",
       "      <td>https://i.redd.it/6tkhoih6yn951.jpg</td>\n",
       "      <td>172</td>\n",
       "      <td></td>\n",
       "      <td>1.594256e+09</td>\n",
       "    </tr>\n",
       "    <tr>\n",
       "      <th>1948</th>\n",
       "      <td>Single (M45) lives in cali. Found out I have t...</td>\n",
       "      <td>21</td>\n",
       "      <td>hnkkjf</td>\n",
       "      <td>happy</td>\n",
       "      <td>https://www.reddit.com/r/happy/comments/hnkkjf...</td>\n",
       "      <td>8</td>\n",
       "      <td>I have something to share as I've been looking...</td>\n",
       "      <td>1.594256e+09</td>\n",
       "    </tr>\n",
       "    <tr>\n",
       "      <th>1949</th>\n",
       "      <td>I passed test and got into my dream school</td>\n",
       "      <td>15</td>\n",
       "      <td>hnjyz2</td>\n",
       "      <td>happy</td>\n",
       "      <td>https://www.reddit.com/r/happy/comments/hnjyz2...</td>\n",
       "      <td>3</td>\n",
       "      <td>(I am not from USA) I just got answers and onl...</td>\n",
       "      <td>1.594254e+09</td>\n",
       "    </tr>\n",
       "  </tbody>\n",
       "</table>\n",
       "<p>1950 rows × 8 columns</p>\n",
       "</div>"
      ],
      "text/plain": [
       "                                                  title  score      id  \\\n",
       "0                 My sweet girl is CANCER FREE today!!!  85842  6yze1g   \n",
       "1     7 years ago my ex slammed my face into a bathr...  83339  axac7r   \n",
       "2     200 days drugs free today, on my way to my fir...  65035  afyn3l   \n",
       "3     A year ago my wife left me and my girls. I fin...  60742  8xgij6   \n",
       "4     Please help me shock my husband by our picture...  56919  9eyzip   \n",
       "...                                                 ...    ...     ...   \n",
       "1945  [Play] A teacher and student play You Are My S...      2  hnouhi   \n",
       "1946        Special Jam delivery with my peanut butter.     12  hnmf2i   \n",
       "1947  Passed my EMT test and got full custody of my ...   5224  hnkmqj   \n",
       "1948  Single (M45) lives in cali. Found out I have t...     21  hnkkjf   \n",
       "1949         I passed test and got into my dream school     15  hnjyz2   \n",
       "\n",
       "     subreddit                                                url  \\\n",
       "0        happy                 https://i.redd.it/e8dskluqtrkz.jpg   \n",
       "1        happy                https://i.redd.it/119gf9pz85k21.jpg   \n",
       "2        happy                          https://imgur.com/v10blf0   \n",
       "3        happy                    https://i.imgur.com/Ytj2PYC.jpg   \n",
       "4        happy                https://i.redd.it/cur93aoaxml11.jpg   \n",
       "...        ...                                                ...   \n",
       "1945     happy  /r/Guitar/comments/hn1od9/play_a_teacher_and_s...   \n",
       "1946     happy                    https://v.redd.it/jv06pu8reo951   \n",
       "1947     happy                https://i.redd.it/6tkhoih6yn951.jpg   \n",
       "1948     happy  https://www.reddit.com/r/happy/comments/hnkkjf...   \n",
       "1949     happy  https://www.reddit.com/r/happy/comments/hnjyz2...   \n",
       "\n",
       "      num_comments                                               body  \\\n",
       "0             1174                                                      \n",
       "1             2059                                                      \n",
       "2             1700                                                      \n",
       "3             1236                                                      \n",
       "4              572                                                      \n",
       "...            ...                                                ...   \n",
       "1945             1                                                      \n",
       "1946             1                                                      \n",
       "1947           172                                                      \n",
       "1948             8  I have something to share as I've been looking...   \n",
       "1949             3  (I am not from USA) I just got answers and onl...   \n",
       "\n",
       "           created  \n",
       "0     1.504954e+09  \n",
       "1     1.551752e+09  \n",
       "2     1.547519e+09  \n",
       "3     1.531201e+09  \n",
       "4     1.536712e+09  \n",
       "...            ...  \n",
       "1945  1.594269e+09  \n",
       "1946  1.594262e+09  \n",
       "1947  1.594256e+09  \n",
       "1948  1.594256e+09  \n",
       "1949  1.594254e+09  \n",
       "\n",
       "[1950 rows x 8 columns]"
      ]
     },
     "execution_count": 479,
     "metadata": {},
     "output_type": "execute_result"
    }
   ],
   "source": [
    "posts2"
   ]
  },
  {
   "cell_type": "code",
   "execution_count": 480,
   "metadata": {},
   "outputs": [],
   "source": [
    "posts2.to_pickle('happy2.pkl')"
   ]
  },
  {
   "cell_type": "code",
   "execution_count": 332,
   "metadata": {},
   "outputs": [],
   "source": [
    "posts.drop_duplicates(inplace=True)"
   ]
  },
  {
   "cell_type": "code",
   "execution_count": 333,
   "metadata": {},
   "outputs": [],
   "source": [
    "posts.reset_index(drop=True, inplace=True)"
   ]
  },
  {
   "cell_type": "code",
   "execution_count": 464,
   "metadata": {},
   "outputs": [],
   "source": [
    "posts.to_pickle('reddit2.pkl')"
   ]
  },
  {
   "cell_type": "code",
   "execution_count": 335,
   "metadata": {},
   "outputs": [],
   "source": [
    "reddit_df = posts[['title', 'body']]"
   ]
  },
  {
   "cell_type": "code",
   "execution_count": 504,
   "metadata": {},
   "outputs": [],
   "source": [
    "posts3 = []\n",
    "ml3_subreddit = reddit.subreddit('sad')\n",
    "for post in ml3_subreddit.new(limit=500):\n",
    "    posts3.append([post.title, post.score, post.id, post.subreddit, post.url, post.num_comments, post.selftext, post.created])\n",
    "\n",
    "posts3 = pd.DataFrame(posts3,columns=['title', 'score', 'id', 'subreddit', 'url', 'num_comments', 'body', 'created'])"
   ]
  },
  {
   "cell_type": "code",
   "execution_count": 506,
   "metadata": {},
   "outputs": [],
   "source": [
    "posts3.to_pickle('sad.pkl')"
   ]
  },
  {
   "cell_type": "markdown",
   "metadata": {},
   "source": [
    "## Topic Modeling with TF-IDF and NMF"
   ]
  },
  {
   "cell_type": "code",
   "execution_count": 337,
   "metadata": {},
   "outputs": [
    {
     "name": "stderr",
     "output_type": "stream",
     "text": [
      "<ipython-input-337-4b571e9ed33a>:4: SettingWithCopyWarning: \n",
      "A value is trying to be set on a copy of a slice from a DataFrame.\n",
      "Try using .loc[row_indexer,col_indexer] = value instead\n",
      "\n",
      "See the caveats in the documentation: https://pandas.pydata.org/pandas-docs/stable/user_guide/indexing.html#returning-a-view-versus-a-copy\n",
      "  reddit_df['body'] = reddit_df.body.map(alphanumeric).map(punc_lower)\n"
     ]
    }
   ],
   "source": [
    "alphanumeric = lambda x: re.sub('\\w*\\d\\w*', ' ', x)\n",
    "punc_lower = lambda x: re.sub('[%s]' % re.escape(string.punctuation), ' ', x.lower())\n",
    "\n",
    "reddit_df['body'] = reddit_df.body.map(alphanumeric).map(punc_lower)"
   ]
  },
  {
   "cell_type": "code",
   "execution_count": 245,
   "metadata": {},
   "outputs": [],
   "source": [
    "def verb_adj(text):\n",
    "    v_adj = lambda pos: pos[:2] == 'JJ' or pos[:2] == 'NN' \n",
    "    tokenized = word_tokenize(text)\n",
    "    adj = [word for (word, pos) in pos_tag(tokenized) if v_adj(pos)] \n",
    "    return ' '.join(adj)"
   ]
  },
  {
   "cell_type": "code",
   "execution_count": 338,
   "metadata": {},
   "outputs": [
    {
     "name": "stderr",
     "output_type": "stream",
     "text": [
      "<ipython-input-338-a6d1873e93c3>:1: SettingWithCopyWarning: \n",
      "A value is trying to be set on a copy of a slice from a DataFrame.\n",
      "Try using .loc[row_indexer,col_indexer] = value instead\n",
      "\n",
      "See the caveats in the documentation: https://pandas.pydata.org/pandas-docs/stable/user_guide/indexing.html#returning-a-view-versus-a-copy\n",
      "  reddit_df['body'] = reddit_df.body.apply(verb_adj)\n"
     ]
    }
   ],
   "source": [
    "reddit_df['body'] = reddit_df.body.apply(verb_adj)"
   ]
  },
  {
   "cell_type": "code",
   "execution_count": 65,
   "metadata": {},
   "outputs": [],
   "source": [
    "lemmatizer = WordNetLemmatizer() \n",
    "def lemmatizer_tokenizer(str_input):\n",
    "    words = re.sub(r\"[^A-Za-z0-9\\-]\", \" \", str_input).lower().split()\n",
    "    words = [lemmatizer.lemmatize(word) for word in words]\n",
    "    return ' '.join(words)"
   ]
  },
  {
   "cell_type": "code",
   "execution_count": 339,
   "metadata": {},
   "outputs": [
    {
     "name": "stderr",
     "output_type": "stream",
     "text": [
      "<ipython-input-339-a2a4cd570654>:1: SettingWithCopyWarning: \n",
      "A value is trying to be set on a copy of a slice from a DataFrame.\n",
      "Try using .loc[row_indexer,col_indexer] = value instead\n",
      "\n",
      "See the caveats in the documentation: https://pandas.pydata.org/pandas-docs/stable/user_guide/indexing.html#returning-a-view-versus-a-copy\n",
      "  reddit_df['body'] = reddit_df.body.apply(lemmatizer_tokenizer)\n"
     ]
    }
   ],
   "source": [
    "reddit_df['body'] = reddit_df.body.apply(lemmatizer_tokenizer)\n"
   ]
  },
  {
   "cell_type": "code",
   "execution_count": 340,
   "metadata": {},
   "outputs": [
    {
     "data": {
      "text/html": [
       "<div>\n",
       "<style scoped>\n",
       "    .dataframe tbody tr th:only-of-type {\n",
       "        vertical-align: middle;\n",
       "    }\n",
       "\n",
       "    .dataframe tbody tr th {\n",
       "        vertical-align: top;\n",
       "    }\n",
       "\n",
       "    .dataframe thead th {\n",
       "        text-align: right;\n",
       "    }\n",
       "</style>\n",
       "<table border=\"1\" class=\"dataframe\">\n",
       "  <thead>\n",
       "    <tr style=\"text-align: right;\">\n",
       "      <th></th>\n",
       "      <th>title</th>\n",
       "      <th>body</th>\n",
       "    </tr>\n",
       "  </thead>\n",
       "  <tbody>\n",
       "    <tr>\n",
       "      <th>0</th>\n",
       "      <td>how am i meant to build karma if they don't le...</td>\n",
       "      <td>i i cooldown wtf</td>\n",
       "    </tr>\n",
       "    <tr>\n",
       "      <th>1</th>\n",
       "      <td>Not a single person has upvoted anything I've ...</td>\n",
       "      <td>i such stupid pet peeve</td>\n",
       "    </tr>\n",
       "    <tr>\n",
       "      <th>2</th>\n",
       "      <td>GO AWAY TIK TOK</td>\n",
       "      <td>grrrrr fuck ur ad</td>\n",
       "    </tr>\n",
       "    <tr>\n",
       "      <th>3</th>\n",
       "      <td>The people stock buying soap and hand sanitise...</td>\n",
       "      <td>mum high risk person fucking covid vet special...</td>\n",
       "    </tr>\n",
       "    <tr>\n",
       "      <th>4</th>\n",
       "      <td>Fuck people who have kids they can’t afford to...</td>\n",
       "      <td>brother deepest poverty southeast u s disabled...</td>\n",
       "    </tr>\n",
       "    <tr>\n",
       "      <th>...</th>\n",
       "      <td>...</td>\n",
       "      <td>...</td>\n",
       "    </tr>\n",
       "    <tr>\n",
       "      <th>3087</th>\n",
       "      <td>Evil people exist.</td>\n",
       "      <td>people much much bad intention life i horrible...</td>\n",
       "    </tr>\n",
       "    <tr>\n",
       "      <th>3088</th>\n",
       "      <td>Braces are hell</td>\n",
       "      <td>everyone brace year grand scheme thing i i fee...</td>\n",
       "    </tr>\n",
       "    <tr>\n",
       "      <th>3089</th>\n",
       "      <td>From the people,</td>\n",
       "      <td>people true people right kind people one</td>\n",
       "    </tr>\n",
       "    <tr>\n",
       "      <th>3090</th>\n",
       "      <td>Can't write an essay on Woodshop because it's ...</td>\n",
       "      <td>english favorite subject thing i t favorite ac...</td>\n",
       "    </tr>\n",
       "    <tr>\n",
       "      <th>3091</th>\n",
       "      <td>It sucks when your post gets removed</td>\n",
       "      <td>effort post rule sub most time dumb rule picky...</td>\n",
       "    </tr>\n",
       "  </tbody>\n",
       "</table>\n",
       "<p>3092 rows × 2 columns</p>\n",
       "</div>"
      ],
      "text/plain": [
       "                                                  title  \\\n",
       "0     how am i meant to build karma if they don't le...   \n",
       "1     Not a single person has upvoted anything I've ...   \n",
       "2                                       GO AWAY TIK TOK   \n",
       "3     The people stock buying soap and hand sanitise...   \n",
       "4     Fuck people who have kids they can’t afford to...   \n",
       "...                                                 ...   \n",
       "3087                                 Evil people exist.   \n",
       "3088                                    Braces are hell   \n",
       "3089                                   From the people,   \n",
       "3090  Can't write an essay on Woodshop because it's ...   \n",
       "3091               It sucks when your post gets removed   \n",
       "\n",
       "                                                   body  \n",
       "0                                      i i cooldown wtf  \n",
       "1                               i such stupid pet peeve  \n",
       "2                                     grrrrr fuck ur ad  \n",
       "3     mum high risk person fucking covid vet special...  \n",
       "4     brother deepest poverty southeast u s disabled...  \n",
       "...                                                 ...  \n",
       "3087  people much much bad intention life i horrible...  \n",
       "3088  everyone brace year grand scheme thing i i fee...  \n",
       "3089           people true people right kind people one  \n",
       "3090  english favorite subject thing i t favorite ac...  \n",
       "3091  effort post rule sub most time dumb rule picky...  \n",
       "\n",
       "[3092 rows x 2 columns]"
      ]
     },
     "execution_count": 340,
     "metadata": {},
     "output_type": "execute_result"
    }
   ],
   "source": [
    "reddit_df"
   ]
  },
  {
   "cell_type": "code",
   "execution_count": 314,
   "metadata": {},
   "outputs": [],
   "source": [
    "stop_words = stopwords.words('english')\n",
    "stop_words.extend(['fuck', 'fucking', 'shit', 'don', 'doesn', 'ha', 'wa', 'something', \n",
    "                   'angry', 'anger','nothing', 'thing', 'way', 'im', 'post', 'reddit', 'comment', 'much', 'cuz'])"
   ]
  },
  {
   "cell_type": "code",
   "execution_count": 341,
   "metadata": {},
   "outputs": [],
   "source": [
    "tfidf1 = TfidfVectorizer(stop_words=stop_words)\n",
    "reddit_df2 = tfidf1.fit_transform(reddit_df.body)"
   ]
  },
  {
   "cell_type": "code",
   "execution_count": 406,
   "metadata": {},
   "outputs": [],
   "source": [
    "nmf_model = NMF(7, random_state=23)\n",
    "doc_topic = nmf_model.fit_transform(reddit_df2)"
   ]
  },
  {
   "cell_type": "code",
   "execution_count": 407,
   "metadata": {},
   "outputs": [],
   "source": [
    "def display_topics(model, feature_names, no_top_words, topic_names=None):\n",
    "    for ix, topic in enumerate(model.components_):\n",
    "        if not topic_names or not topic_names[ix]:\n",
    "            print(\"\\nTopic \", ix)\n",
    "        else:\n",
    "            print(\"\\nTopic: '\",topic_names[ix],\"'\")\n",
    "        print(\", \".join([feature_names[i]\n",
    "                        for i in topic.argsort()[:-no_top_words - 1:-1]]))"
   ]
  },
  {
   "cell_type": "code",
   "execution_count": 409,
   "metadata": {},
   "outputs": [
    {
     "name": "stdout",
     "output_type": "stream",
     "text": [
      "\n",
      "Topic  0\n",
      "job, day, time, work, money, week, car, hour, month, home, phone, today\n",
      "\n",
      "Topic  1\n",
      "people, someone, black, everyone, person, white, reason, anyone, others, issue, lot, racist\n",
      "\n",
      "Topic  2\n",
      "friend, time, guy, relationship, girl, someone, best, year, friendship, person, day, reason\n",
      "\n",
      "Topic  3\n",
      "mom, kid, child, year, parent, dad, family, woman, school, sister, brother, mother\n",
      "\n",
      "Topic  4\n",
      "life, everything, everyone, happy, world, real, anything, hard, love, good, person, year\n",
      "\n",
      "Topic  5\n",
      "dog, cat, animal, someone, owner, roommate, grown, asshole, super, pet, stop, room\n",
      "\n",
      "Topic  6\n",
      "game, ad, video, stupid, youtube, time, xbox, console, site, minute, god, website\n"
     ]
    }
   ],
   "source": [
    "display_topics(nmf_model, tfidf1.get_feature_names(), 12)"
   ]
  },
  {
   "cell_type": "code",
   "execution_count": 410,
   "metadata": {},
   "outputs": [
    {
     "data": {
      "text/html": [
       "<div>\n",
       "<style scoped>\n",
       "    .dataframe tbody tr th:only-of-type {\n",
       "        vertical-align: middle;\n",
       "    }\n",
       "\n",
       "    .dataframe tbody tr th {\n",
       "        vertical-align: top;\n",
       "    }\n",
       "\n",
       "    .dataframe thead th {\n",
       "        text-align: right;\n",
       "    }\n",
       "</style>\n",
       "<table border=\"1\" class=\"dataframe\">\n",
       "  <thead>\n",
       "    <tr style=\"text-align: right;\">\n",
       "      <th></th>\n",
       "      <th>0</th>\n",
       "      <th>1</th>\n",
       "      <th>2</th>\n",
       "      <th>3</th>\n",
       "      <th>4</th>\n",
       "      <th>5</th>\n",
       "      <th>6</th>\n",
       "    </tr>\n",
       "    <tr>\n",
       "      <th>title</th>\n",
       "      <th></th>\n",
       "      <th></th>\n",
       "      <th></th>\n",
       "      <th></th>\n",
       "      <th></th>\n",
       "      <th></th>\n",
       "      <th></th>\n",
       "    </tr>\n",
       "  </thead>\n",
       "  <tbody>\n",
       "    <tr>\n",
       "      <th>how am i meant to build karma if they don't let me post to build my karma wtf</th>\n",
       "      <td>0.000</td>\n",
       "      <td>0.002</td>\n",
       "      <td>0.000</td>\n",
       "      <td>0.002</td>\n",
       "      <td>0.003</td>\n",
       "      <td>0.005</td>\n",
       "      <td>0.000</td>\n",
       "    </tr>\n",
       "    <tr>\n",
       "      <th>Not a single person has upvoted anything I've posted, And its my fucking cake day</th>\n",
       "      <td>0.002</td>\n",
       "      <td>0.002</td>\n",
       "      <td>0.000</td>\n",
       "      <td>0.000</td>\n",
       "      <td>0.000</td>\n",
       "      <td>0.014</td>\n",
       "      <td>0.034</td>\n",
       "    </tr>\n",
       "    <tr>\n",
       "      <th>GO AWAY TIK TOK</th>\n",
       "      <td>0.000</td>\n",
       "      <td>0.000</td>\n",
       "      <td>0.000</td>\n",
       "      <td>0.000</td>\n",
       "      <td>0.000</td>\n",
       "      <td>0.000</td>\n",
       "      <td>0.109</td>\n",
       "    </tr>\n",
       "    <tr>\n",
       "      <th>The people stock buying soap and hand sanitiser because of covid19 can go fuck themselves</th>\n",
       "      <td>0.016</td>\n",
       "      <td>0.088</td>\n",
       "      <td>0.000</td>\n",
       "      <td>0.000</td>\n",
       "      <td>0.000</td>\n",
       "      <td>0.001</td>\n",
       "      <td>0.005</td>\n",
       "    </tr>\n",
       "    <tr>\n",
       "      <th>Fuck people who have kids they can’t afford to take care of</th>\n",
       "      <td>0.003</td>\n",
       "      <td>0.009</td>\n",
       "      <td>0.000</td>\n",
       "      <td>0.209</td>\n",
       "      <td>0.028</td>\n",
       "      <td>0.000</td>\n",
       "      <td>0.000</td>\n",
       "    </tr>\n",
       "    <tr>\n",
       "      <th>...</th>\n",
       "      <td>...</td>\n",
       "      <td>...</td>\n",
       "      <td>...</td>\n",
       "      <td>...</td>\n",
       "      <td>...</td>\n",
       "      <td>...</td>\n",
       "      <td>...</td>\n",
       "    </tr>\n",
       "    <tr>\n",
       "      <th>Evil people exist.</th>\n",
       "      <td>0.000</td>\n",
       "      <td>0.071</td>\n",
       "      <td>0.066</td>\n",
       "      <td>0.000</td>\n",
       "      <td>0.129</td>\n",
       "      <td>0.000</td>\n",
       "      <td>0.000</td>\n",
       "    </tr>\n",
       "    <tr>\n",
       "      <th>Braces are hell</th>\n",
       "      <td>0.050</td>\n",
       "      <td>0.002</td>\n",
       "      <td>0.011</td>\n",
       "      <td>0.028</td>\n",
       "      <td>0.011</td>\n",
       "      <td>0.000</td>\n",
       "      <td>0.006</td>\n",
       "    </tr>\n",
       "    <tr>\n",
       "      <th>From the people,</th>\n",
       "      <td>0.000</td>\n",
       "      <td>0.281</td>\n",
       "      <td>0.000</td>\n",
       "      <td>0.000</td>\n",
       "      <td>0.000</td>\n",
       "      <td>0.000</td>\n",
       "      <td>0.000</td>\n",
       "    </tr>\n",
       "    <tr>\n",
       "      <th>Can't write an essay on Woodshop because it's not an academic subjet..</th>\n",
       "      <td>0.018</td>\n",
       "      <td>0.009</td>\n",
       "      <td>0.000</td>\n",
       "      <td>0.030</td>\n",
       "      <td>0.000</td>\n",
       "      <td>0.000</td>\n",
       "      <td>0.008</td>\n",
       "    </tr>\n",
       "    <tr>\n",
       "      <th>It sucks when your post gets removed</th>\n",
       "      <td>0.011</td>\n",
       "      <td>0.016</td>\n",
       "      <td>0.005</td>\n",
       "      <td>0.007</td>\n",
       "      <td>0.000</td>\n",
       "      <td>0.000</td>\n",
       "      <td>0.019</td>\n",
       "    </tr>\n",
       "  </tbody>\n",
       "</table>\n",
       "<p>3092 rows × 7 columns</p>\n",
       "</div>"
      ],
      "text/plain": [
       "                                                        0      1      2  \\\n",
       "title                                                                     \n",
       "how am i meant to build karma if they don't let...  0.000  0.002  0.000   \n",
       "Not a single person has upvoted anything I've p...  0.002  0.002  0.000   \n",
       "GO AWAY TIK TOK                                     0.000  0.000  0.000   \n",
       "The people stock buying soap and hand sanitiser...  0.016  0.088  0.000   \n",
       "Fuck people who have kids they can’t afford to ...  0.003  0.009  0.000   \n",
       "...                                                   ...    ...    ...   \n",
       "Evil people exist.                                  0.000  0.071  0.066   \n",
       "Braces are hell                                     0.050  0.002  0.011   \n",
       "From the people,                                    0.000  0.281  0.000   \n",
       "Can't write an essay on Woodshop because it's n...  0.018  0.009  0.000   \n",
       "It sucks when your post gets removed                0.011  0.016  0.005   \n",
       "\n",
       "                                                        3      4      5      6  \n",
       "title                                                                           \n",
       "how am i meant to build karma if they don't let...  0.002  0.003  0.005  0.000  \n",
       "Not a single person has upvoted anything I've p...  0.000  0.000  0.014  0.034  \n",
       "GO AWAY TIK TOK                                     0.000  0.000  0.000  0.109  \n",
       "The people stock buying soap and hand sanitiser...  0.000  0.000  0.001  0.005  \n",
       "Fuck people who have kids they can’t afford to ...  0.209  0.028  0.000  0.000  \n",
       "...                                                   ...    ...    ...    ...  \n",
       "Evil people exist.                                  0.000  0.129  0.000  0.000  \n",
       "Braces are hell                                     0.028  0.011  0.000  0.006  \n",
       "From the people,                                    0.000  0.000  0.000  0.000  \n",
       "Can't write an essay on Woodshop because it's n...  0.030  0.000  0.000  0.008  \n",
       "It sucks when your post gets removed                0.007  0.000  0.000  0.019  \n",
       "\n",
       "[3092 rows x 7 columns]"
      ]
     },
     "execution_count": 410,
     "metadata": {},
     "output_type": "execute_result"
    }
   ],
   "source": [
    "reddit_topic = pd.DataFrame(doc_topic.round(3), index=reddit_df.title)\n",
    "reddit_topic"
   ]
  },
  {
   "cell_type": "code",
   "execution_count": 367,
   "metadata": {},
   "outputs": [],
   "source": [
    "from sklearn.cluster import KMeans\n",
    "import matplotlib.pyplot as plt\n",
    "from sklearn.metrics import pairwise_distances\n",
    "from sklearn.metrics import silhouette_score\n",
    "from sklearn import metrics\n"
   ]
  },
  {
   "cell_type": "code",
   "execution_count": 411,
   "metadata": {},
   "outputs": [],
   "source": [
    "SSEs = []\n",
    "Sil_coefs = []\n",
    "for k in range(2,20):\n",
    "    km = KMeans(n_clusters=k, random_state=1)\n",
    "    km.fit(reddit_topic)\n",
    "    labels = km.labels_\n",
    "    Sil_coefs.append(metrics.silhouette_score(reddit_topic, labels, metric='euclidean'))\n",
    "    SSEs.append(km.inertia_) # The SSE is just inertia, we\n",
    "                                            # could have just said km.inertia_"
   ]
  },
  {
   "cell_type": "code",
   "execution_count": 412,
   "metadata": {},
   "outputs": [
    {
     "data": {
      "image/png": "[encoded data removed]",
      "text/plain": [
       "<Figure size 1080x360 with 2 Axes>"
      ]
     },
     "metadata": {
      "needs_background": "light"
     },
     "output_type": "display_data"
    }
   ],
   "source": [
    "fig, (ax1, ax2) = plt.subplots(1,2, figsize=(15,5), sharex=True)\n",
    "k_clusters = range(2,20)\n",
    "ax1.plot(k_clusters, Sil_coefs)\n",
    "ax1.set_xlabel('number of clusters')\n",
    "ax1.set_ylabel('silhouette coefficient')\n",
    "\n",
    "# plot here on ax2\n",
    "ax2.plot(k_clusters, SSEs)\n",
    "ax2.set_xlabel('number of clusters')\n",
    "ax2.set_ylabel('SSE');"
   ]
  },
  {
   "cell_type": "code",
   "execution_count": 413,
   "metadata": {},
   "outputs": [],
   "source": [
    "km3 = KMeans(n_clusters=7)"
   ]
  },
  {
   "cell_type": "code",
   "execution_count": 414,
   "metadata": {},
   "outputs": [
    {
     "data": {
      "text/plain": [
       "KMeans(n_clusters=7)"
      ]
     },
     "execution_count": 414,
     "metadata": {},
     "output_type": "execute_result"
    }
   ],
   "source": [
    "km3.fit(reddit_topic)"
   ]
  },
  {
   "cell_type": "code",
   "execution_count": 415,
   "metadata": {},
   "outputs": [],
   "source": [
    "labels = km3.labels_"
   ]
  },
  {
   "cell_type": "code",
   "execution_count": 416,
   "metadata": {},
   "outputs": [
    {
     "data": {
      "text/plain": [
       "array([0, 0, 5, ..., 2, 0, 0], dtype=int32)"
      ]
     },
     "execution_count": 416,
     "metadata": {},
     "output_type": "execute_result"
    }
   ],
   "source": [
    "km3.labels_"
   ]
  },
  {
   "cell_type": "code",
   "execution_count": 417,
   "metadata": {},
   "outputs": [
    {
     "data": {
      "text/plain": [
       "3092"
      ]
     },
     "execution_count": 417,
     "metadata": {},
     "output_type": "execute_result"
    }
   ],
   "source": [
    "len(labels)"
   ]
  },
  {
   "cell_type": "code",
   "execution_count": 381,
   "metadata": {},
   "outputs": [],
   "source": [
    "reddit_clusters = reddit_topic.copy()"
   ]
  },
  {
   "cell_type": "code",
   "execution_count": 418,
   "metadata": {},
   "outputs": [],
   "source": [
    "reddit_clusters['cluster'] = labels"
   ]
  },
  {
   "cell_type": "code",
   "execution_count": 419,
   "metadata": {},
   "outputs": [
    {
     "data": {
      "text/plain": [
       "cluster\n",
       "0    1759\n",
       "1     402\n",
       "2     400\n",
       "3     200\n",
       "4     157\n",
       "5     117\n",
       "6      57\n",
       "Name: cluster, dtype: int64"
      ]
     },
     "execution_count": 419,
     "metadata": {},
     "output_type": "execute_result"
    }
   ],
   "source": [
    "reddit_clusters.groupby('cluster').cluster.count()"
   ]
  },
  {
   "cell_type": "code",
   "execution_count": 420,
   "metadata": {},
   "outputs": [
    {
     "data": {
      "text/plain": [
       "array([[0.01484345, 0.01084665, 0.01279553, 0.09580831, 0.01326518,\n",
       "        0.00670288, 0.0057476 , 0.01039936],\n",
       "       [0.02389369, 0.01263957, 0.00616657, 0.00923195, 0.00869471,\n",
       "        0.00337237, 0.0097925 , 0.00896532],\n",
       "       [0.01281462, 0.10311749, 0.00954569, 0.01008877, 0.0147154 ,\n",
       "        0.00255091, 0.00701305, 0.01224021],\n",
       "       [0.00673276, 0.01725   , 0.0112069 , 0.01309483, 0.01250862,\n",
       "        0.00280172, 0.00680172, 0.14633621],\n",
       "       [0.01769481, 0.02114286, 0.14525974, 0.01376623, 0.02307143,\n",
       "        0.00425325, 0.00612987, 0.01127922],\n",
       "       [0.00639815, 0.01103704, 0.01524074, 0.00819444, 0.00759259,\n",
       "        0.00108333, 0.16286111, 0.0037037 ],\n",
       "       [0.01382178, 0.02511881, 0.01302475, 0.01422772, 0.11392574,\n",
       "        0.00520792, 0.00636139, 0.00769307],\n",
       "       [0.00929825, 0.01392982, 0.00992982, 0.01582456, 0.00901754,\n",
       "        0.19531579, 0.00508772, 0.009     ]])"
      ]
     },
     "execution_count": 420,
     "metadata": {},
     "output_type": "execute_result"
    }
   ],
   "source": [
    "km2.cluster_centers_"
   ]
  }
 ],
 "metadata": {
  "kernelspec": {
   "display_name": "Python 3",
   "language": "python",
   "name": "python3"
  },
  "language_info": {
   "codemirror_mode": {
    "name": "ipython",
    "version": 3
   },
   "file_extension": ".py",
   "mimetype": "text/x-python",
   "name": "python",
   "nbconvert_exporter": "python",
   "pygments_lexer": "ipython3",
   "version": "3.8.3"
  }
 },
 "nbformat": 4,
 "nbformat_minor": 4
}
